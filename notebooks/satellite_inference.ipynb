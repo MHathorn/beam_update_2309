{
  "cells": [
    {
      "cell_type": "markdown",
      "metadata": {
        "id": "Zq9dWBcYaaPU"
      },
      "source": [
        "# Inference on Satellite"
      ]
    },
    {
      "cell_type": "markdown",
      "metadata": {
        "id": "Q_qhiRIyakGF"
      },
      "source": [
        "## 1. Imports and set paths"
      ]
    },
    {
      "cell_type": "code",
      "source": [
        "%%capture\n",
        "!pip install ipython rasterio semtorch"
      ],
      "metadata": {
        "id": "DJzojf6OzpBN"
      },
      "execution_count": null,
      "outputs": []
    },
    {
      "cell_type": "code",
      "source": [
        "# Import packages\n",
        "from fastai.vision.all import *\n",
        "import numpy as np\n",
        "import random\n",
        "import os\n",
        "import pytz\n",
        "from datetime import datetime\n",
        "from IPython.display import Audio, display\n",
        "from sklearn.model_selection import train_test_split\n",
        "\n",
        "from natsort import os_sorted\n",
        "from os.path import join, exists\n",
        "from os import listdir, makedirs, remove, stat\n",
        "import glob\n",
        "\n",
        "import rasterio\n",
        "import rasterio.features\n",
        "from semtorch import get_segmentation_learner\n",
        "from rasterio.features import rasterize\n",
        "import rasterio.plot\n",
        "import sys\n",
        "import cv2\n",
        "\n",
        "import shapely.geometry\n",
        "from shapely.geometry import MultiPolygon, Polygon\n",
        "from shapely.ops import unary_union\n",
        "import geopandas as gpd\n",
        "from google.colab import drive\n",
        "drive.mount('/content/drive')"
      ],
      "metadata": {
        "colab": {
          "base_uri": "https://localhost:8080/"
        },
        "id": "KJPCKsDbzTaw",
        "outputId": "31009d5e-2ceb-48ce-d0ee-bba272838765"
      },
      "execution_count": null,
      "outputs": [
        {
          "output_type": "stream",
          "name": "stderr",
          "text": [
            "/usr/local/lib/python3.10/dist-packages/torch/nn/_reduction.py:42: UserWarning: size_average and reduce args will be deprecated, please use reduction='mean' instead.\n",
            "  warnings.warn(warning.format(ret))\n"
          ]
        },
        {
          "output_type": "stream",
          "name": "stdout",
          "text": [
            "Mounted at /content/drive\n"
          ]
        }
      ]
    },
    {
      "cell_type": "code",
      "source": [
        "# Create custom loss functions for later experiments\n",
        "class CombinedLoss:\n",
        "    \"\"\"Dice and Focal combined\"\"\"\n",
        "    def __init__(self, axis=1, smooth=1., alpha=1.):\n",
        "        store_attr()\n",
        "        self.focal_loss = FocalLossFlat(axis=axis)\n",
        "        self.dice_loss =  DiceLoss(axis, smooth)\n",
        "\n",
        "    def __call__(self, pred, targ):\n",
        "        return self.focal_loss(pred, targ) + self.alpha * self.dice_loss(pred, targ)\n",
        "\n",
        "    def decodes(self, x):    return x.argmax(dim=self.axis)\n",
        "    def activation(self, x): return F.softmax(x, dim=self.axis)\n",
        "\n",
        "\n",
        "class Dual_Focal_loss(nn.Module):\n",
        "    \"\"\"This loss is proposed in this paper: https://arxiv.org/abs/1909.11932\n",
        "    \"\"\"\n",
        "\n",
        "    def __init__(self, ignore_lb=255, eps=1e-5, reduction='mean'):\n",
        "        super(Dual_Focal_loss, self).__init__()\n",
        "        self.ignore_lb = ignore_lb\n",
        "        self.eps = eps\n",
        "        self.reduction = reduction\n",
        "        self.mse = nn.MSELoss(reduction='none')\n",
        "\n",
        "    def forward(self, logits, label):\n",
        "        ignore = label.data.cpu() == self.ignore_lb\n",
        "        n_valid = (ignore == 0).sum()\n",
        "        label = label.clone()\n",
        "        label[ignore] = 0\n",
        "        lb_one_hot = logits.data.clone().zero_().scatter_(1, label.unsqueeze(1), 1).detach()\n",
        "\n",
        "        pred = torch.softmax(logits, dim=1)\n",
        "        loss = -torch.log(self.eps + 1. - self.mse(pred, lb_one_hot)).sum(dim=1)\n",
        "        loss[ignore] = 0\n",
        "        if self.reduction == 'mean':\n",
        "            loss = loss.sum() / n_valid\n",
        "        elif self.reduction == 'sum':\n",
        "            loss = loss.sum()\n",
        "        elif self.reduction == 'none':\n",
        "            loss = loss\n",
        "        return loss"
      ],
      "metadata": {
        "id": "QfOdNWN340ek"
      },
      "execution_count": null,
      "outputs": []
    },
    {
      "cell_type": "code",
      "source": [
        "def n_codes(fnames, is_partial = True):\n",
        "  \"\"\"Gather the codes (classes contained in masks) from a list of `fnames`\"\"\"\n",
        "  vals = set() # create an empty set to store unique values\n",
        "  if is_partial:\n",
        "    random.shuffle(fnames) # shuffle the list of filenames\n",
        "    fnames = fnames[:10] # select the first 10 filenames\n",
        "  for fname in fnames:\n",
        "    msk = np.array(PILMask.create(fname)) # create a numpy array from the mask image\n",
        "    for val in np.unique(msk): # loop through the unique values in the mask\n",
        "      if val not in vals: # if the value is not already in the set of unique values\n",
        "        vals.add(val) # add it to the set\n",
        "  vals = list(vals) # convert the set back to a list\n",
        "  p2c = dict() # create an empty dictionary to store the pixel-to-class mapping\n",
        "  for i,val in enumerate(vals):\n",
        "    p2c[i] = vals[i] # assign each unique value to a key in the dictionary\n",
        "  return p2c\n",
        "\n",
        "def get_msk(fn, p2c):\n",
        "  \"\"\"Grab a mask from a `filename` and adjust the pixels based on `p2c`\"\"\"\n",
        "  # path = path # set the path to the image and mask folders\n",
        "  pix2class = n_codes(lbl_names) # get the pixel-to-class mapping\n",
        "  fn = str(fn).replace('image_tiles', 'mask_tiles') # replace the image folder name with the mask folder name in the filename\n",
        "  msk = np.array(PILMask.create(fn)) # create a numpy array from the mask image\n",
        "  mx = np.max(msk) # get the maximum value in the mask\n",
        "  for i, val in enumerate(p2c): # loop through the pixel-to-class mapping\n",
        "    msk[msk==p2c[i]] = val # replace each pixel value in the mask with its corresponding class value\n",
        "  return PILMask.create(msk) # create a PIL image from the adjusted mask\n",
        "\n",
        "def get_y(o):\n",
        "  return get_msk(o, p2c) # return the adjusted mask for a given filename\n",
        "\n",
        "def batch_size(backbone, tile_size):\n",
        "  \"\"\"Automatically set batch size depending on image size and architecture used\"\"\"\n",
        "  if '512' in tile_size:\n",
        "    batch_size_dict = {'resnet152': 2, 'resnet101': 2, 'resnet50': 2,\n",
        "                       'resnet34': 11, 'resnet18': 10, 'vgg16_bn': 2,\n",
        "                       'hrnet_w18': 32, 'hrnet_w30': 32, 'hrnet_w32': 32,\n",
        "                       'hrnet_w48': 18} # set batch sizes for different architectures and image sizes\n",
        "  elif '256' in tile_size:\n",
        "    batch_size_dict = {'resnet152': 2, 'resnet101': 2, 'resnet50': 2,\n",
        "                       'resnet34': 11, 'resnet18': 10, 'hrnet_w18': 64} # set batch sizes for different architectures and image sizes\n",
        "  return batch_size_dict[backbone] # return the batch size for a given architecture and image size\n",
        "\n",
        "def create_missing_folder(folder):\n",
        "  \"\"\"Create missing folders\"\"\"\n",
        "  if not os.path.exists(folder): # if the folder does not exist\n",
        "    os.makedirs(folder) # create it\n",
        "\n",
        "def timestamp():\n",
        "  \"\"\"Timestamp experiments\"\"\"\n",
        "  tz = pytz.timezone('Europe/Berlin') # set the timezone\n",
        "  date = str(datetime.now(tz)).split(\" \") # get the current date and time in the specified timezone\n",
        "  date_time = f\"{date[0]}_{date[1].split('.')[0][:5]}\" # format the date and time\n",
        "  return date_time\n",
        "\n",
        "def model_notification():\n",
        "  \"\"\"Create notification when model training is completed\"\"\"\n",
        "  for i in range(5):\n",
        "    display(Audio('https://www.soundjay.com/buttons/beep-03.wav', autoplay = True)) # play a sound\n",
        "    time.sleep(2) # wait for 2 seconds\n",
        "\n",
        "def get_tile_size(tile_type):\n",
        "  \"\"\"Set 'tile_size' variable based on the name of the tile folder\"\"\"\n",
        "  if '512' in tile_type:\n",
        "    tile_size = '512' # set the tile size to 512\n",
        "  elif '256' in tile_type:\n",
        "    tile_size = '256' # set the tile size to 256\n",
        "  return tile_size\n",
        "\n",
        "def check_fnames_lbls(tile_type):\n",
        "  \"\"\"Get images and labels for dataloader and check whether their number is equal\"\"\"\n",
        "  global fnames, lbl_names, path # make the variables global so they can be accessed outside the function\n",
        "  fnames = get_image_files(f'{path}/image_tiles') # get the filenames of the image tiles\n",
        "  lbl_names = get_image_files(f'{path}/mask_tiles') # get the filenames of the mask tiles\n",
        "  if len(fnames) != len(lbl_names): # if the number of image tiles is not equal to the number of mask tiles\n",
        "    print('ERROR: unequal number of image and mask tiles!') # print an error message\n",
        "  return fnames, lbl_names, path\n",
        "\n",
        "def callbacks(model_dir, architecture, backbone, fit_type, timestamp):\n",
        "  \"\"\"Log results in CSV, show progress\"\"\"\n",
        "  cbs = [CSVLogger(fname = f'{model_dir}/{architecture}_{backbone}_{fit_type}_{timestamp()}.csv', append = True), # log results in a CSV file\n",
        "        ShowGraphCallback()] #\n",
        "  return cbs\n",
        "\n",
        "def check_dataset_balance(tile_type):\n",
        "  \"\"\"Check balance of the dataset\"\"\"\n",
        "  global tile_size, p2c # make the variables global so they can be accessed outside the function\n",
        "  tile_size = get_tile_size(tile_type) # get the tile size\n",
        "  # Check if there is a label for each image\n",
        "  fnames, lbl_names, path = check_fnames_lbls(tile_type) # get the filenames of the image and mask tiles\n",
        "\n",
        "  # Get codes of masks\n",
        "  p2c = n_codes(lbl_names) # get the pixel-to-class mapping\n",
        "\n",
        "  label_func = get_y\n",
        "\n",
        "  # Create dataloader to check building pixels\n",
        "  dls = SegmentationDataLoaders.from_label_func(path, fnames, label_func = label_func, bs = 64, codes = codes, seed = 2) # create a dataloader\n",
        "\n",
        "  targs = torch.zeros((0, 512, 512)) # create a tensor to store the mask pixels\n",
        "  for _, masks in dls[0]:\n",
        "    targs = torch.cat((targs, masks.cpu()), dim = 0) # concatenate the mask pixels\n",
        "\n",
        "  total_pixels = targs.shape[1]**2 # calculate the total number of pixels\n",
        "  percentages = torch.count_nonzero(targs, dim = (1,2)) / total_pixels # calculate the percentage of pixels that belong to the building class\n",
        "  plt.hist(percentages, bins = 20) # plot a histogram of the percentages\n",
        "  plt.ylabel('Number of tiles')\n",
        "  plt.xlabel('Ratio of pixels that are of class `building`')\n",
        "  plt.gca().spines['top'].set_color('none')\n",
        "  plt.gca().spines['right'].set_color('none')\n",
        "  plt.show()\n",
        "  print(f'Mean Percentage of Pixels Belonging to Buildings: {round(percentages.mean().item(), 3)}') # print the mean percentage of pixels that belong to the building class\n",
        "  return percentages # return the percentages"
      ],
      "metadata": {
        "id": "lqUH-uwT41XI"
      },
      "execution_count": null,
      "outputs": []
    },
    {
      "cell_type": "markdown",
      "metadata": {
        "id": "Wh6-WSV7zHRs"
      },
      "source": [
        "## Predictions\n",
        "This section shows how to run inference to generate predictions and perform evaluation on a test set.\n",
        "\n",
        "These functions work together to create a pipeline for generating predictions from aerial imagery and saving them as shapefiles of detected buildings. They do this by creating tiles from an image, saving predictions for each tile, merging the predictions into a single image, and creating a shapefile from the merged image. The `create_tiles` function cuts the input image into tiles of a specified size and saves them to disk. The `save_predictions` function loads the saved tiles, runs them through a pre-trained model, and saves the resulting predictions to disk. The `merge_tiles` function combines the predictions from all tiles into a single image. The `get_saved_predictions` function loads the saved predictions from disk and returns them as a NumPy array. Finally, the `create_shp_from_mask` function converts the merged image into a shapefile of detected settlements. The resulting shapefile can be used to visualize the detected buildings in the original image.\n",
        "\n",
        "The `merge_tiles` function is used to combine the predictions from all tiles into a single image. It takes as input a NumPy array of shape `(n, nrows, ncols, c)` or `(n, nrows, ncols)` and the original height and width of the image. If the input array has a color channel, the function reshapes it into a 4D array and then combines the tiles into a single image. If the input array does not have a color channel, the function reshapes it into a 3D array and then combines the tiles into a single image.\n",
        "\n",
        "The `save_predictions` function loads the saved tiles, runs them through the loaded model, and saves the resulting predictions to disk. The `create_tiles` function cuts the input image into tiles of a specified size and saves them to disk. The `get_image_tiles` function returns a sorted list of the first `n` image tile filenames in a directory. The `get_saved_predictions` function loads the saved predictions from disk and returns them as a NumPy array. Finally, the `create_shp_from_mask` function converts the merged image into a shapefile of detected settlements.\n",
        "\n",
        "The `create_inferences` function calls these functions in sequence to perform the entire process of creating tiles, saving predictions, merging tiles, and creating a shapefile. It first creates tiles from the input image using `create_tiles`, then saves predictions for each tile using `save_predictions`. It then merges the predictions into a single image using `merge_tiles` and creates a shapefile from the merged image using `create_shp_from_mask`. The resulting shapefile can be used to visualize the detected settlements in the original image."
      ]
    },
    {
      "cell_type": "code",
      "execution_count": null,
      "metadata": {
        "id": "XrU1TFGGzHRs"
      },
      "outputs": [],
      "source": [
        "input_names = []\n",
        "path =\n",
        "tile_dir = f\"{path}/image_tiles\" # set the path to the folder containing the tiles\n",
        "inf_tile_size = 1000\n",
        "predicted_dir =  f\"{path}/saved_preds\" # set the path to the folder where the predicted masks should be saved\n",
        "file_west = '/content/drive/MyDrive/UNITAC/data/satellite_imagery/Managua/1040010087B10F00/016043245010_01_003/016043245010_01_003/016043245010_01/016043245010_01_P001_MUL/23JUN25161448-M3DS_R2C3-016043245010_01_P001.TIF'\n",
        "file_east = f'{path}/satellite_imagery/Managua/1040010091C5B600/016043246010_01_003/016043246010_01_003/016043246010_01/016043246010_01_P001_MUL/23MAR10162619-M3DS_R2C1-016043246010_01_P001.TIF' # set the path to the image that should be used for inference\n",
        "image_shape_x = None\n",
        "image_shape_y = None\n",
        "loaded_models = {\n",
        "  \"HRNet\": load_learner(f\"/content/drive/MyDrive/UNITAC/data/ethekwini/models/HRNet_loss_CE_flat_2023-08-17_19_39_exported.pkl\"), # or set to learn if you want to use the model you just trained\n",
        "  \"UNet\": load_learner(f\"/content/drive/MyDrive/UNITAC/data/ethekwini/models/U-Net_loss_CE_flat_2023-08-21_15_35_exported.pkl\")\n",
        "}\n",
        "output_folder = f\"{path}/predictions\" # set the path to the folder where the predicted masks should be saved\n",
        "\n",
        "def create_missing_folder(folder):\n",
        "  \"\"\"Create missing folders\"\"\"\n",
        "  if not os.path.exists(folder): # if the folder does not exist\n",
        "    os.makedirs(folder) # create it\n",
        "\n",
        "for dir in [predicted_dir, tile_dir, output_folder]:\n",
        "  create_missing_folder(dir)"
      ]
    },
    {
      "cell_type": "code",
      "execution_count": null,
      "metadata": {
        "id": "pD5GTea3zHRs"
      },
      "outputs": [],
      "source": [
        "\n",
        "def get_rgb_image_from_mul(image_path, source=\"wv-3\"):\n",
        "  \"\"\"\n",
        "  Isolate RGB channels from multi-band satellite imagery.\n",
        "  For Worldview-03, the expected band structure is:\n",
        "  (\"coastal\", \"blue\", \"green\", \"yellow\", \"red\", \"red-edge\", \"near-IR1\", \"near-IR2\").\n",
        "\n",
        "  Parameters:\n",
        "  image_path (str): Path to the multi-band image file.\n",
        "  source: Satellite or other source for the multi-band imagery.\n",
        "\n",
        "  Returns: RGB image in format (width, height, 3).\n",
        "  \"\"\"\n",
        "\n",
        "\n",
        "  def get_band(band_idx):\n",
        "\n",
        "    with rasterio.open(f\"{image_path}\") as infile:\n",
        "        img = infile.read(band_idx)\n",
        "\n",
        "    return img\n",
        "\n",
        "  if source == \"wv-3\":\n",
        "    return np.stack((get_band(4), get_band(2), get_band(1)), axis=-1)\n",
        "\n",
        "\n",
        "\n",
        "def create_tiles(image_path):\n",
        "    \"\"\"\n",
        "    cuts the big image (from the path) into tiles with tile size as stated in the global variables. the images are\n",
        "    squared.\n",
        "    the tiles will be saved under /images_tiles/image_name/...png\n",
        "    \"\"\"\n",
        "    tilling_start_time = datetime.now()\n",
        "    global tile_dir\n",
        "    global inf_tile_size\n",
        "    global image_shape_x, image_shape_y\n",
        "    if not exists(tile_dir):\n",
        "        makedirs(tile_dir)\n",
        "    # add condition to test the file size if it is 0 then just return?\n",
        "    img = get_rgb_image_from_mul(image_path)\n",
        "    image_shape_x, image_shape_y, _ = img.shape\n",
        "    img_name = image_path.split(\"/\")[-1]\n",
        "    if exists(join(tile_dir, img_name)):\n",
        "        filelist = glob.glob(join(tile_dir, img_name, img_name + \"*.png\"))\n",
        "        for f in filelist:\n",
        "            remove(f)\n",
        "    else:\n",
        "        makedirs(join(tile_dir, img_name))\n",
        "    # Cut tiles and save them\n",
        "    for i in range(image_shape_x // inf_tile_size):\n",
        "        for j in range(image_shape_y // inf_tile_size):\n",
        "            img_tile = img[\n",
        "                       i * inf_tile_size: (i + 1) * inf_tile_size, j * inf_tile_size: (j + 1) * inf_tile_size\n",
        "                       ]\n",
        "            Image.fromarray(img_tile).save(\n",
        "                f\"{join(tile_dir, img_name)}/{img_name}_000{i * (image_shape_x // inf_tile_size) + j}.png\"\n",
        "            )\n",
        "    tilling_end_time = datetime.now()\n",
        "\n",
        "\n",
        "def get_image_tiles(nbr_tiles, img_name) -> L:\n",
        "    \"\"\"\n",
        "    Helper function to return a sorted list of the first `n` image tile filenames in `path`\n",
        "\n",
        "    \"\"\"\n",
        "    global tile_dir\n",
        "    files = L()\n",
        "    files.extend(get_image_files(path=tile_dir, folders=img_name)[:nbr_tiles])\n",
        "    return files\n",
        "\n",
        "\n",
        "def save_predictions(image_path, model):\n",
        "    \"\"\"\n",
        "    Saves the intermediary detected images from all tiles. Predicts all tiles of one scene and saves them to disk.\n",
        "    \"\"\"\n",
        "    global loaded_models\n",
        "    if not exists(predicted_dir):\n",
        "        makedirs(predicted_dir)\n",
        "    img_name = image_path.split(\"/\")[-1]\n",
        "    # get all the tiles from the directory they belong to.\n",
        "    tiles = os_sorted(get_image_tiles(len(listdir(join(tile_dir, img_name))), img_name))\n",
        "    # predict all tiles and save them to disk\n",
        "    for i in range(len(tiles)):\n",
        "        pred, _, outputs = loaded_models[model].predict(tiles[i]) # predict the mask for the tile\n",
        "        output = torch.exp(pred[:, :]).detach().cpu().numpy() # convert the mask to a numpy array\n",
        "        np.save(f\"{predicted_dir}/saved_{i:02d}\", output) # save the mask\n",
        "    outputs = os_sorted(glob.glob(f\"{predicted_dir}/*.npy\")) # get the filenames of the saved masks\n",
        "    return len(tiles) == len(outputs) # return True if the number of tiles is equal to the number of saved masks\n",
        "\n",
        "\n",
        "def merge_tiles(arr, h, w):\n",
        "    \"\"\"\n",
        "    Takes as input a NumPy array of shape (n, nrows, ncols, c) or (n, nrows, ncols)\n",
        "    and the original height and width of the image.\n",
        "    If the array has a color channel, will reshape into a 3d array of shape HWC.\n",
        "    If no color channel, will reshape into array of shape: h, w.\n",
        "    NB: Currently only works without color channel (NHWC wrong shape for PyTorch tensors)\n",
        "    \"\"\"\n",
        "\n",
        "    try:  # with color channel\n",
        "        n, nrows, ncols, c = arr.shape # get the shape of the array\n",
        "        return (\n",
        "            arr.reshape(h // nrows, -1, nrows, ncols, c).swapaxes(1, 2).reshape(h, w, c) # reshape the array\n",
        "        )\n",
        "    except ValueError:  # without color channel\n",
        "        n, nrows, ncols = arr.shape # get the shape of the array\n",
        "        return arr.reshape(h // nrows, -1, nrows, ncols).swapaxes(1, 2).reshape(h, w) # reshape the array\n",
        "\n",
        "\n",
        "def get_saved_predictions():\n",
        "    \"\"\"\n",
        "    Load saved prediction mask tiles for a scene and return assembled\n",
        "    mask based on the original image size by using the merge_tiles function.\n",
        "    \"\"\"\n",
        "    mask_tiles = os_sorted(glob.glob(f\"{predicted_dir}/*.npy\")) # get the filenames of the saved masks\n",
        "    mask_array = list(map(np.load, mask_tiles)) # load the saved masks\n",
        "    global image_shape_x, image_shape_y, inf_tile_size\n",
        "    # Remove hard coded values\n",
        "    if mask_array is None or len(mask_array) == 0:\n",
        "        return None\n",
        "    try:\n",
        "        mask_array = merge_tiles(\n",
        "            np.array(mask_array),\n",
        "            (image_shape_x // inf_tile_size) * inf_tile_size,\n",
        "            (image_shape_y // inf_tile_size) * inf_tile_size,\n",
        "        )\n",
        "    except ValueError as err:\n",
        "        print(f\"Unexpected {err=}, {type(err)=}\")\n",
        "\n",
        "    return mask_array\n",
        "\n",
        "\n",
        "def create_shp_from_mask(file, mask_array):\n",
        "    \"\"\"\n",
        "    Transforms the image to a geo-encoded image by\n",
        "    Creates a shapefile from a binary mask array and saves it to disk. The shapefile contains polygons that represent\n",
        "    the connected regions of the mask. The function takes as input a file path to the original image and a binary mask\n",
        "    array of the same size as the original image. The function first dilates the mask with a 3x3 square kernel, which\n",
        "    is the inverse of the erosion applied in preprocessing. Then, it uses the `rasterio.features.shapes` function to\n",
        "    extract the shapes of the connected regions of the mask. Finally, it saves the shapes as polygons in a shapefile\n",
        "    with the same name as the original image file, suffixed with \"_predicted.shp\". If the mask array is None or has\n",
        "    length 1, the function creates an empty shapefile with the same name as the original image file, suffixed with\n",
        "    \"_predicted.shp\".\n",
        "    \"\"\"\n",
        "    global output_folder\n",
        "    if not os.path.exists(output_folder):\n",
        "      os.makedirs(output_folder)\n",
        "    with rasterio.open(file, \"r\") as src:\n",
        "        raster_meta = src.meta\n",
        "    # create an empty shapefile and interrupt the function.\n",
        "    if mask_array is None or len(mask_array) == 1:\n",
        "        pred_name = file.split(\"/\")[-1]\n",
        "        empty_schema = {\"geometry\": \"Polygon\", \"properties\": {\"id\": \"int\"}}\n",
        "        no_crs = None\n",
        "        gdf = gpd.GeoDataFrame(geometry=[])\n",
        "        gdf.to_file(\n",
        "            f\"{output_folder}/{pred_name}_predicted.shp\",\n",
        "            driver=\"ESRI Shapefile\",\n",
        "            schema=empty_schema,\n",
        "            crs=no_crs,\n",
        "        )\n",
        "        return\n",
        "    mask_array = np.array(mask_array)\n",
        "    # Dilate the mask with a 3x3 square kernel. This is the inverse of the erosion applied in preprocessing\n",
        "    kernel = np.ones((3, 3), np.uint8)\n",
        "    mask_array = cv2.dilate(mask_array, kernel, iterations=1)\n",
        "    shapes = rasterio.features.shapes(mask_array, transform=raster_meta[\"transform\"])\n",
        "    polygons = [\n",
        "        shapely.geometry.Polygon(shape[0][\"coordinates\"][0]) for shape in shapes\n",
        "    ]\n",
        "    my_list = raster_meta[\"crs\"]\n",
        "    gdf = gpd.GeoDataFrame(crs=my_list, geometry=polygons)\n",
        "    gdf[\"area\"] = gdf[\"geometry\"].area\n",
        "    gdf = gdf.drop([gdf[\"area\"].idxmax()])\n",
        "    # Drop shapes that are too small or too large to be a building\n",
        "    gdf = gdf[(gdf[\"area\"] > 2) & (gdf[\"area\"] < 500000)]\n",
        "    pred_name = file.split(\"/\")[-1]\n",
        "    # in case the geo-dataframe is empty which means no settlements are detected\n",
        "    if gdf.empty:\n",
        "        empty_schema = {\"geometry\": \"Polygon\", \"properties\": {\"id\": \"int\"}}\n",
        "        no_crs = None\n",
        "        gdf = gpd.GeoDataFrame(geometry=[])\n",
        "        gdf.to_file(\n",
        "            f\"{output_folder}/{pred_name}_predicted.shp\",\n",
        "            driver=\"ESRI Shapefile\",\n",
        "            schema=empty_schema,\n",
        "            crs=no_crs,\n",
        "        )\n",
        "    else:\n",
        "        gdf.to_file(\n",
        "            f\"{output_folder}/{pred_name}_predicted.shp\", driver=\"ESRI Shapefile\"\n",
        "        )\n",
        "\n",
        "def create_inferences(file: str, model=\"HRNet\"):\n",
        "    \"\"\"\n",
        "    Creates the inferences for the given file and saves them in the output folder.\n",
        "    This is the main function that should be called to start the inference process.\n",
        "    Takes as input a file path to the original image.\n",
        "    \"\"\"\n",
        "    headers = {\"Access-Control-Allow-Origin\": \"*\"}\n",
        "    process_start = datetime.now()\n",
        "    global image_shape_x, image_shape_y\n",
        "    inf_start = datetime.now()\n",
        "    if (os.stat(file).st_size == 0):\n",
        "        pred_name = file.split(\"/\")[-1]\n",
        "        empty_schema = {\"geometry\": \"Polygon\", \"properties\": {\"id\": \"int\"}}\n",
        "        no_crs = None\n",
        "        gdf = gpd.GeoDataFrame(geometry=[])\n",
        "        gdf.to_file(\n",
        "            f\"{output_folder}/{pred_name}_predicted.shp\",\n",
        "            driver=\"ESRI Shapefile\",\n",
        "            schema=empty_schema,\n",
        "            crs=no_crs,\n",
        "        )\n",
        "\n",
        "        content = {\"message\": \"An empty Shape file for the empty image is stored.\"}\n",
        "\n",
        "\n",
        "    create_tiles(file)\n",
        "    saved_pred = save_predictions(file, model)\n",
        "    inf_finish = datetime.now()\n",
        "    img_name = file.split(\"/\")[-1]\n",
        "    if not saved_pred:\n",
        "        content = {\n",
        "            \"message\": \"The tiles and outputs have mismatched, please start the segmenting process again!\"\n",
        "        }\n",
        "        shutil.rmtree(join(tile_dir, img_name))\n",
        "        filelist = glob.glob(join(predicted_dir, \"*.npy\"))\n",
        "        for f in filelist:\n",
        "            os.remove(f)\n",
        "\n",
        "\n",
        "    else:\n",
        "        create_shp_from_mask(file, get_saved_predictions())\n",
        "        content = {\"message\": \"Output saved in the Output Folder.\"}\n",
        "\n",
        "        shutil.rmtree(join(tile_dir, img_name))\n",
        "        filelist = glob.glob(join(predicted_dir, \"*.npy\"))\n",
        "        for f in filelist:\n",
        "            os.remove(f)\n",
        "        process_finish = datetime.now()\n"
      ]
    },
    {
      "cell_type": "code",
      "execution_count": null,
      "metadata": {
        "id": "zxDwEH0gzHRs",
        "colab": {
          "base_uri": "https://localhost:8080/",
          "height": 17
        },
        "outputId": "a74d04fb-fd33-4db8-da62-4ed06b9688b3"
      },
      "outputs": [
        {
          "output_type": "display_data",
          "data": {
            "text/plain": [
              "<IPython.core.display.HTML object>"
            ],
            "text/html": [
              "\n",
              "<style>\n",
              "    /* Turns off some styling */\n",
              "    progress {\n",
              "        /* gets rid of default border in Firefox and Opera. */\n",
              "        border: none;\n",
              "        /* Needs to be in here for Safari polyfill so background images work as expected. */\n",
              "        background-size: auto;\n",
              "    }\n",
              "    progress:not([value]), progress:not([value])::-webkit-progress-bar {\n",
              "        background: repeating-linear-gradient(45deg, #7e7e7e, #7e7e7e 10px, #5c5c5c 10px, #5c5c5c 20px);\n",
              "    }\n",
              "    .progress-bar-interrupted, .progress-bar-interrupted::-webkit-progress-bar {\n",
              "        background: #F44336;\n",
              "    }\n",
              "</style>\n"
            ]
          },
          "metadata": {}
        },
        {
          "output_type": "display_data",
          "data": {
            "text/plain": [
              "<IPython.core.display.HTML object>"
            ],
            "text/html": []
          },
          "metadata": {}
        },
        {
          "output_type": "display_data",
          "data": {
            "text/plain": [
              "<IPython.core.display.HTML object>"
            ],
            "text/html": [
              "\n",
              "<style>\n",
              "    /* Turns off some styling */\n",
              "    progress {\n",
              "        /* gets rid of default border in Firefox and Opera. */\n",
              "        border: none;\n",
              "        /* Needs to be in here for Safari polyfill so background images work as expected. */\n",
              "        background-size: auto;\n",
              "    }\n",
              "    progress:not([value]), progress:not([value])::-webkit-progress-bar {\n",
              "        background: repeating-linear-gradient(45deg, #7e7e7e, #7e7e7e 10px, #5c5c5c 10px, #5c5c5c 20px);\n",
              "    }\n",
              "    .progress-bar-interrupted, .progress-bar-interrupted::-webkit-progress-bar {\n",
              "        background: #F44336;\n",
              "    }\n",
              "</style>\n"
            ]
          },
          "metadata": {}
        },
        {
          "output_type": "display_data",
          "data": {
            "text/plain": [
              "<IPython.core.display.HTML object>"
            ],
            "text/html": []
          },
          "metadata": {}
        },
        {
          "output_type": "display_data",
          "data": {
            "text/plain": [
              "<IPython.core.display.HTML object>"
            ],
            "text/html": [
              "\n",
              "<style>\n",
              "    /* Turns off some styling */\n",
              "    progress {\n",
              "        /* gets rid of default border in Firefox and Opera. */\n",
              "        border: none;\n",
              "        /* Needs to be in here for Safari polyfill so background images work as expected. */\n",
              "        background-size: auto;\n",
              "    }\n",
              "    progress:not([value]), progress:not([value])::-webkit-progress-bar {\n",
              "        background: repeating-linear-gradient(45deg, #7e7e7e, #7e7e7e 10px, #5c5c5c 10px, #5c5c5c 20px);\n",
              "    }\n",
              "    .progress-bar-interrupted, .progress-bar-interrupted::-webkit-progress-bar {\n",
              "        background: #F44336;\n",
              "    }\n",
              "</style>\n"
            ]
          },
          "metadata": {}
        },
        {
          "output_type": "display_data",
          "data": {
            "text/plain": [
              "<IPython.core.display.HTML object>"
            ],
            "text/html": []
          },
          "metadata": {}
        },
        {
          "output_type": "display_data",
          "data": {
            "text/plain": [
              "<IPython.core.display.HTML object>"
            ],
            "text/html": [
              "\n",
              "<style>\n",
              "    /* Turns off some styling */\n",
              "    progress {\n",
              "        /* gets rid of default border in Firefox and Opera. */\n",
              "        border: none;\n",
              "        /* Needs to be in here for Safari polyfill so background images work as expected. */\n",
              "        background-size: auto;\n",
              "    }\n",
              "    progress:not([value]), progress:not([value])::-webkit-progress-bar {\n",
              "        background: repeating-linear-gradient(45deg, #7e7e7e, #7e7e7e 10px, #5c5c5c 10px, #5c5c5c 20px);\n",
              "    }\n",
              "    .progress-bar-interrupted, .progress-bar-interrupted::-webkit-progress-bar {\n",
              "        background: #F44336;\n",
              "    }\n",
              "</style>\n"
            ]
          },
          "metadata": {}
        },
        {
          "output_type": "display_data",
          "data": {
            "text/plain": [
              "<IPython.core.display.HTML object>"
            ],
            "text/html": []
          },
          "metadata": {}
        },
        {
          "output_type": "display_data",
          "data": {
            "text/plain": [
              "<IPython.core.display.HTML object>"
            ],
            "text/html": [
              "\n",
              "<style>\n",
              "    /* Turns off some styling */\n",
              "    progress {\n",
              "        /* gets rid of default border in Firefox and Opera. */\n",
              "        border: none;\n",
              "        /* Needs to be in here for Safari polyfill so background images work as expected. */\n",
              "        background-size: auto;\n",
              "    }\n",
              "    progress:not([value]), progress:not([value])::-webkit-progress-bar {\n",
              "        background: repeating-linear-gradient(45deg, #7e7e7e, #7e7e7e 10px, #5c5c5c 10px, #5c5c5c 20px);\n",
              "    }\n",
              "    .progress-bar-interrupted, .progress-bar-interrupted::-webkit-progress-bar {\n",
              "        background: #F44336;\n",
              "    }\n",
              "</style>\n"
            ]
          },
          "metadata": {}
        },
        {
          "output_type": "display_data",
          "data": {
            "text/plain": [
              "<IPython.core.display.HTML object>"
            ],
            "text/html": []
          },
          "metadata": {}
        },
        {
          "output_type": "display_data",
          "data": {
            "text/plain": [
              "<IPython.core.display.HTML object>"
            ],
            "text/html": [
              "\n",
              "<style>\n",
              "    /* Turns off some styling */\n",
              "    progress {\n",
              "        /* gets rid of default border in Firefox and Opera. */\n",
              "        border: none;\n",
              "        /* Needs to be in here for Safari polyfill so background images work as expected. */\n",
              "        background-size: auto;\n",
              "    }\n",
              "    progress:not([value]), progress:not([value])::-webkit-progress-bar {\n",
              "        background: repeating-linear-gradient(45deg, #7e7e7e, #7e7e7e 10px, #5c5c5c 10px, #5c5c5c 20px);\n",
              "    }\n",
              "    .progress-bar-interrupted, .progress-bar-interrupted::-webkit-progress-bar {\n",
              "        background: #F44336;\n",
              "    }\n",
              "</style>\n"
            ]
          },
          "metadata": {}
        },
        {
          "output_type": "display_data",
          "data": {
            "text/plain": [
              "<IPython.core.display.HTML object>"
            ],
            "text/html": []
          },
          "metadata": {}
        },
        {
          "output_type": "display_data",
          "data": {
            "text/plain": [
              "<IPython.core.display.HTML object>"
            ],
            "text/html": [
              "\n",
              "<style>\n",
              "    /* Turns off some styling */\n",
              "    progress {\n",
              "        /* gets rid of default border in Firefox and Opera. */\n",
              "        border: none;\n",
              "        /* Needs to be in here for Safari polyfill so background images work as expected. */\n",
              "        background-size: auto;\n",
              "    }\n",
              "    progress:not([value]), progress:not([value])::-webkit-progress-bar {\n",
              "        background: repeating-linear-gradient(45deg, #7e7e7e, #7e7e7e 10px, #5c5c5c 10px, #5c5c5c 20px);\n",
              "    }\n",
              "    .progress-bar-interrupted, .progress-bar-interrupted::-webkit-progress-bar {\n",
              "        background: #F44336;\n",
              "    }\n",
              "</style>\n"
            ]
          },
          "metadata": {}
        },
        {
          "output_type": "display_data",
          "data": {
            "text/plain": [
              "<IPython.core.display.HTML object>"
            ],
            "text/html": []
          },
          "metadata": {}
        },
        {
          "output_type": "display_data",
          "data": {
            "text/plain": [
              "<IPython.core.display.HTML object>"
            ],
            "text/html": [
              "\n",
              "<style>\n",
              "    /* Turns off some styling */\n",
              "    progress {\n",
              "        /* gets rid of default border in Firefox and Opera. */\n",
              "        border: none;\n",
              "        /* Needs to be in here for Safari polyfill so background images work as expected. */\n",
              "        background-size: auto;\n",
              "    }\n",
              "    progress:not([value]), progress:not([value])::-webkit-progress-bar {\n",
              "        background: repeating-linear-gradient(45deg, #7e7e7e, #7e7e7e 10px, #5c5c5c 10px, #5c5c5c 20px);\n",
              "    }\n",
              "    .progress-bar-interrupted, .progress-bar-interrupted::-webkit-progress-bar {\n",
              "        background: #F44336;\n",
              "    }\n",
              "</style>\n"
            ]
          },
          "metadata": {}
        },
        {
          "output_type": "display_data",
          "data": {
            "text/plain": [
              "<IPython.core.display.HTML object>"
            ],
            "text/html": []
          },
          "metadata": {}
        },
        {
          "output_type": "display_data",
          "data": {
            "text/plain": [
              "<IPython.core.display.HTML object>"
            ],
            "text/html": [
              "\n",
              "<style>\n",
              "    /* Turns off some styling */\n",
              "    progress {\n",
              "        /* gets rid of default border in Firefox and Opera. */\n",
              "        border: none;\n",
              "        /* Needs to be in here for Safari polyfill so background images work as expected. */\n",
              "        background-size: auto;\n",
              "    }\n",
              "    progress:not([value]), progress:not([value])::-webkit-progress-bar {\n",
              "        background: repeating-linear-gradient(45deg, #7e7e7e, #7e7e7e 10px, #5c5c5c 10px, #5c5c5c 20px);\n",
              "    }\n",
              "    .progress-bar-interrupted, .progress-bar-interrupted::-webkit-progress-bar {\n",
              "        background: #F44336;\n",
              "    }\n",
              "</style>\n"
            ]
          },
          "metadata": {}
        },
        {
          "output_type": "display_data",
          "data": {
            "text/plain": [
              "<IPython.core.display.HTML object>"
            ],
            "text/html": []
          },
          "metadata": {}
        },
        {
          "output_type": "display_data",
          "data": {
            "text/plain": [
              "<IPython.core.display.HTML object>"
            ],
            "text/html": [
              "\n",
              "<style>\n",
              "    /* Turns off some styling */\n",
              "    progress {\n",
              "        /* gets rid of default border in Firefox and Opera. */\n",
              "        border: none;\n",
              "        /* Needs to be in here for Safari polyfill so background images work as expected. */\n",
              "        background-size: auto;\n",
              "    }\n",
              "    progress:not([value]), progress:not([value])::-webkit-progress-bar {\n",
              "        background: repeating-linear-gradient(45deg, #7e7e7e, #7e7e7e 10px, #5c5c5c 10px, #5c5c5c 20px);\n",
              "    }\n",
              "    .progress-bar-interrupted, .progress-bar-interrupted::-webkit-progress-bar {\n",
              "        background: #F44336;\n",
              "    }\n",
              "</style>\n"
            ]
          },
          "metadata": {}
        },
        {
          "output_type": "display_data",
          "data": {
            "text/plain": [
              "<IPython.core.display.HTML object>"
            ],
            "text/html": []
          },
          "metadata": {}
        },
        {
          "output_type": "display_data",
          "data": {
            "text/plain": [
              "<IPython.core.display.HTML object>"
            ],
            "text/html": [
              "\n",
              "<style>\n",
              "    /* Turns off some styling */\n",
              "    progress {\n",
              "        /* gets rid of default border in Firefox and Opera. */\n",
              "        border: none;\n",
              "        /* Needs to be in here for Safari polyfill so background images work as expected. */\n",
              "        background-size: auto;\n",
              "    }\n",
              "    progress:not([value]), progress:not([value])::-webkit-progress-bar {\n",
              "        background: repeating-linear-gradient(45deg, #7e7e7e, #7e7e7e 10px, #5c5c5c 10px, #5c5c5c 20px);\n",
              "    }\n",
              "    .progress-bar-interrupted, .progress-bar-interrupted::-webkit-progress-bar {\n",
              "        background: #F44336;\n",
              "    }\n",
              "</style>\n"
            ]
          },
          "metadata": {}
        },
        {
          "output_type": "display_data",
          "data": {
            "text/plain": [
              "<IPython.core.display.HTML object>"
            ],
            "text/html": []
          },
          "metadata": {}
        },
        {
          "output_type": "display_data",
          "data": {
            "text/plain": [
              "<IPython.core.display.HTML object>"
            ],
            "text/html": [
              "\n",
              "<style>\n",
              "    /* Turns off some styling */\n",
              "    progress {\n",
              "        /* gets rid of default border in Firefox and Opera. */\n",
              "        border: none;\n",
              "        /* Needs to be in here for Safari polyfill so background images work as expected. */\n",
              "        background-size: auto;\n",
              "    }\n",
              "    progress:not([value]), progress:not([value])::-webkit-progress-bar {\n",
              "        background: repeating-linear-gradient(45deg, #7e7e7e, #7e7e7e 10px, #5c5c5c 10px, #5c5c5c 20px);\n",
              "    }\n",
              "    .progress-bar-interrupted, .progress-bar-interrupted::-webkit-progress-bar {\n",
              "        background: #F44336;\n",
              "    }\n",
              "</style>\n"
            ]
          },
          "metadata": {}
        },
        {
          "output_type": "display_data",
          "data": {
            "text/plain": [
              "<IPython.core.display.HTML object>"
            ],
            "text/html": []
          },
          "metadata": {}
        },
        {
          "output_type": "display_data",
          "data": {
            "text/plain": [
              "<IPython.core.display.HTML object>"
            ],
            "text/html": [
              "\n",
              "<style>\n",
              "    /* Turns off some styling */\n",
              "    progress {\n",
              "        /* gets rid of default border in Firefox and Opera. */\n",
              "        border: none;\n",
              "        /* Needs to be in here for Safari polyfill so background images work as expected. */\n",
              "        background-size: auto;\n",
              "    }\n",
              "    progress:not([value]), progress:not([value])::-webkit-progress-bar {\n",
              "        background: repeating-linear-gradient(45deg, #7e7e7e, #7e7e7e 10px, #5c5c5c 10px, #5c5c5c 20px);\n",
              "    }\n",
              "    .progress-bar-interrupted, .progress-bar-interrupted::-webkit-progress-bar {\n",
              "        background: #F44336;\n",
              "    }\n",
              "</style>\n"
            ]
          },
          "metadata": {}
        },
        {
          "output_type": "display_data",
          "data": {
            "text/plain": [
              "<IPython.core.display.HTML object>"
            ],
            "text/html": []
          },
          "metadata": {}
        },
        {
          "output_type": "display_data",
          "data": {
            "text/plain": [
              "<IPython.core.display.HTML object>"
            ],
            "text/html": [
              "\n",
              "<style>\n",
              "    /* Turns off some styling */\n",
              "    progress {\n",
              "        /* gets rid of default border in Firefox and Opera. */\n",
              "        border: none;\n",
              "        /* Needs to be in here for Safari polyfill so background images work as expected. */\n",
              "        background-size: auto;\n",
              "    }\n",
              "    progress:not([value]), progress:not([value])::-webkit-progress-bar {\n",
              "        background: repeating-linear-gradient(45deg, #7e7e7e, #7e7e7e 10px, #5c5c5c 10px, #5c5c5c 20px);\n",
              "    }\n",
              "    .progress-bar-interrupted, .progress-bar-interrupted::-webkit-progress-bar {\n",
              "        background: #F44336;\n",
              "    }\n",
              "</style>\n"
            ]
          },
          "metadata": {}
        },
        {
          "output_type": "display_data",
          "data": {
            "text/plain": [
              "<IPython.core.display.HTML object>"
            ],
            "text/html": []
          },
          "metadata": {}
        },
        {
          "output_type": "display_data",
          "data": {
            "text/plain": [
              "<IPython.core.display.HTML object>"
            ],
            "text/html": [
              "\n",
              "<style>\n",
              "    /* Turns off some styling */\n",
              "    progress {\n",
              "        /* gets rid of default border in Firefox and Opera. */\n",
              "        border: none;\n",
              "        /* Needs to be in here for Safari polyfill so background images work as expected. */\n",
              "        background-size: auto;\n",
              "    }\n",
              "    progress:not([value]), progress:not([value])::-webkit-progress-bar {\n",
              "        background: repeating-linear-gradient(45deg, #7e7e7e, #7e7e7e 10px, #5c5c5c 10px, #5c5c5c 20px);\n",
              "    }\n",
              "    .progress-bar-interrupted, .progress-bar-interrupted::-webkit-progress-bar {\n",
              "        background: #F44336;\n",
              "    }\n",
              "</style>\n"
            ]
          },
          "metadata": {}
        },
        {
          "output_type": "display_data",
          "data": {
            "text/plain": [
              "<IPython.core.display.HTML object>"
            ],
            "text/html": []
          },
          "metadata": {}
        },
        {
          "output_type": "display_data",
          "data": {
            "text/plain": [
              "<IPython.core.display.HTML object>"
            ],
            "text/html": [
              "\n",
              "<style>\n",
              "    /* Turns off some styling */\n",
              "    progress {\n",
              "        /* gets rid of default border in Firefox and Opera. */\n",
              "        border: none;\n",
              "        /* Needs to be in here for Safari polyfill so background images work as expected. */\n",
              "        background-size: auto;\n",
              "    }\n",
              "    progress:not([value]), progress:not([value])::-webkit-progress-bar {\n",
              "        background: repeating-linear-gradient(45deg, #7e7e7e, #7e7e7e 10px, #5c5c5c 10px, #5c5c5c 20px);\n",
              "    }\n",
              "    .progress-bar-interrupted, .progress-bar-interrupted::-webkit-progress-bar {\n",
              "        background: #F44336;\n",
              "    }\n",
              "</style>\n"
            ]
          },
          "metadata": {}
        },
        {
          "output_type": "display_data",
          "data": {
            "text/plain": [
              "<IPython.core.display.HTML object>"
            ],
            "text/html": []
          },
          "metadata": {}
        }
      ],
      "source": [
        "create_inferences(file_east, model=\"UNet\")"
      ]
    },
    {
      "cell_type": "code",
      "source": [],
      "metadata": {
        "id": "pNa8Di8ZEHhD"
      },
      "execution_count": null,
      "outputs": []
    }
  ],
  "metadata": {
    "accelerator": "GPU",
    "colab": {
      "machine_shape": "hm",
      "provenance": []
    },
    "kernelspec": {
      "display_name": "Python 3",
      "name": "python3"
    },
    "language_info": {
      "codemirror_mode": {
        "name": "ipython",
        "version": 3
      },
      "file_extension": ".py",
      "mimetype": "text/x-python",
      "name": "python",
      "nbconvert_exporter": "python",
      "pygments_lexer": "ipython3",
      "version": "3.10.12"
    }
  },
  "nbformat": 4,
  "nbformat_minor": 0
}
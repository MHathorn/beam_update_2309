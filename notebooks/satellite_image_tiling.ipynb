{
  "cells": [
    {
      "cell_type": "markdown",
      "id": "be72341b-3d53-4c7c-8483-d7f21ea52c8f",
      "metadata": {
        "id": "be72341b-3d53-4c7c-8483-d7f21ea52c8f"
      },
      "source": [
        "# Tiling Satellite Images"
      ]
    },
    {
      "cell_type": "markdown",
      "id": "Cf7W6KLkrOU0",
      "metadata": {
        "id": "Cf7W6KLkrOU0"
      },
      "source": [
        "## 1. Install and Import Required Packages"
      ]
    },
    {
      "cell_type": "code",
      "execution_count": 1,
      "id": "p6ZoJBTVE0gH",
      "metadata": {
        "id": "p6ZoJBTVE0gH"
      },
      "outputs": [],
      "source": [
        "%%capture\n",
        "!pip install -U rasterio geopandas fastai"
      ]
    },
    {
      "cell_type": "code",
      "execution_count": 2,
      "id": "9cfe8c2b-eadc-46ad-8a49-b0e00c549b33",
      "metadata": {
        "id": "9cfe8c2b-eadc-46ad-8a49-b0e00c549b33"
      },
      "outputs": [],
      "source": [
        "# Import packages\n",
        "import rasterio\n",
        "from rasterio.features import rasterize\n",
        "import geopandas as gpd\n",
        "import pandas as pd\n",
        "import numpy as np\n",
        "from shapely.ops import unary_union # previously used: cascaded_union\n",
        "from shapely import wkt\n",
        "from shapely.geometry import mapping, Point, Polygon, box\n",
        "\n",
        "from PIL import Image\n",
        "import os\n",
        "import shutil\n",
        "from fastai.vision.all import *\n",
        "from tqdm import tqdm\n",
        "import cv2"
      ]
    },
    {
      "cell_type": "markdown",
      "id": "86eb18a4",
      "metadata": {
        "id": "86eb18a4"
      },
      "source": [
        "## 2. Set Paths for Images and Masks"
      ]
    },
    {
      "cell_type": "markdown",
      "id": "eeaadeef",
      "metadata": {
        "id": "eeaadeef"
      },
      "source": [
        "If running on Google Colab, uncomment the next cell and mount Google Drive."
      ]
    },
    {
      "cell_type": "code",
      "execution_count": 3,
      "id": "03a5105f",
      "metadata": {
        "colab": {
          "base_uri": "https://localhost:8080/"
        },
        "id": "03a5105f",
        "outputId": "057aa0ce-f5f8-430c-c1eb-2a39f1297ecd"
      },
      "outputs": [
        {
          "name": "stdout",
          "output_type": "stream",
          "text": [
            "Mounted at /content/drive\n"
          ]
        }
      ],
      "source": [
        "from google.colab import drive\n",
        "drive.mount('/content/drive')"
      ]
    },
    {
      "cell_type": "code",
      "execution_count": 44,
      "id": "A3iYVfu9uXjY",
      "metadata": {
        "id": "A3iYVfu9uXjY"
      },
      "outputs": [],
      "source": [
        "from sys import path_hooks\n",
        "path = Path(f\"/content/drive/MyDrive/UNITAC/data/satellite_imagery/tiles\")\n",
        "\n",
        "# Set directory containing images retrieve a list of all images contained.\n",
        "images_dir = path / \"images\"\n",
        "# images_list = get_image_files(path/\"test_image\")\n",
        "\n",
        "# Set directory of shapefile to be used to create mask\n",
        "\n",
        "shapefiles_dir = path / \"shapefiles\"\n",
        "buildings_path = path.parent.parent / \"open_building_dataset/Managua_NIC_rect.csv\"\n",
        "output_dir = path"
      ]
    },
    {
      "cell_type": "code",
      "execution_count": 45,
      "id": "Nx8iUAx9KJsY",
      "metadata": {
        "colab": {
          "base_uri": "https://localhost:8080/"
        },
        "id": "Nx8iUAx9KJsY",
        "outputId": "872720c7-4748-4f9e-b7f9-8e8a15cb39a6"
      },
      "outputs": [
        {
          "name": "stdout",
          "output_type": "stream",
          "text": [
            "/content/drive/MyDrive/UNITAC/data/satellite_imagery/tiles /content/drive/MyDrive/UNITAC/data/satellite_imagery/tiles/images /content/drive/MyDrive/UNITAC/data/satellite_imagery/tiles/shapefiles /content/drive/MyDrive/UNITAC/data/open_building_dataset/Managua_NIC_rect.csv /content/drive/MyDrive/UNITAC/data/satellite_imagery/tiles\n"
          ]
        }
      ],
      "source": [
        "print(path, images_dir, shapefiles_dir, buildings_path, output_dir)"
      ]
    },
    {
      "cell_type": "code",
      "execution_count": 41,
      "id": "LiR4N6nk34mG",
      "metadata": {
        "colab": {
          "base_uri": "https://localhost:8080/"
        },
        "id": "LiR4N6nk34mG",
        "outputId": "79e21342-4ba4-40fc-d356-e67fec302928"
      },
      "outputs": [
        {
          "name": "stdout",
          "output_type": "stream",
          "text": [
            "23JUN25161448-M3DS-016043245010_01_P001.XML\n",
            "23JUN25161448-M3DS-016043245010_01_P001.IMD\n",
            "23JUN25161448-M3DS_R1C1-016043245010_01_P001.TIF\n",
            "23JUN25161448-M3DS-016043245010_01_P001_README.TXT\n",
            "23JUN25161448-M3DS-016043245010_01_P001-BROWSE.JPG\n",
            "23JUN25161448-M3DS-016043245010_01_P001.TIL\n",
            "23JUN25161448-M3DS_R1C2-016043245010_01_P001.TIF\n",
            "23JUN25161448-M3DS_R1C3-016043245010_01_P001.TIF\n",
            "23JUN25161448-M3DS_R2C1-016043245010_01_P001.TIF\n",
            "23JUN25161448-M3DS_R2C2-016043245010_01_P001.TIF\n",
            "Copied 23JUN25161448-M3DS_R2C2-016043245010_01_P001.TIF to /content/drive/MyDrive/UNITAC/data/satellite_imagery/tiles/images\n",
            "23JUN25161448-M3DS_R2C3-016043245010_01_P001.TIF\n",
            "Copied 23JUN25161448-M3DS_R2C3-016043245010_01_P001.TIF to /content/drive/MyDrive/UNITAC/data/satellite_imagery/tiles/images\n",
            "23JUN25161448-M3DS_R3C1-016043245010_01_P001.TIF\n",
            "23JUN25161448-M3DS_R3C2-016043245010_01_P001.TIF\n",
            "Copied 23JUN25161448-M3DS_R3C2-016043245010_01_P001.TIF to /content/drive/MyDrive/UNITAC/data/satellite_imagery/tiles/images\n",
            "23JUN25161448-M3DS_R3C3-016043245010_01_P001.TIF\n",
            "Copied 23JUN25161448-M3DS_R3C3-016043245010_01_P001.TIF to /content/drive/MyDrive/UNITAC/data/satellite_imagery/tiles/images\n",
            "23JUN25161448-M3DS_R4C1-016043245010_01_P001.TIF\n",
            "23JUN25161448-M3DS_R4C2-016043245010_01_P001.TIF\n",
            "Copied 23JUN25161448-M3DS_R4C2-016043245010_01_P001.TIF to /content/drive/MyDrive/UNITAC/data/satellite_imagery/tiles/images\n",
            "23JUN25161448-M3DS_R4C3-016043245010_01_P001.TIF\n",
            "Copied 23JUN25161448-M3DS_R4C3-016043245010_01_P001.TIF to /content/drive/MyDrive/UNITAC/data/satellite_imagery/tiles/images\n",
            "23JUN25161448-M3DS_R5C1-016043245010_01_P001.TIF\n",
            "NEXTVIEW.TXT\n",
            "23JUN25161448-M3DS_R5C2-016043245010_01_P001.TIF\n",
            "Copied 23JUN25161448-M3DS_R5C2-016043245010_01_P001.TIF to /content/drive/MyDrive/UNITAC/data/satellite_imagery/tiles/images\n"
          ]
        }
      ],
      "source": [
        "source_dir = '/content/drive/MyDrive/UNITAC/data/satellite_imagery/Managua/1040010087B10F00/016043245010_01_003/016043245010_01_003/016043245010_01/016043245010_01_P001_MUL'\n",
        "target_dir = images_dir\n",
        "\n",
        "def copy_images_without_r1(source_dir, target_dir):\n",
        "    # Check if the source directory exists\n",
        "    if not os.path.exists(source_dir):\n",
        "        print(f\"The source directory {source_dir} does not exist.\")\n",
        "        return\n",
        "\n",
        "    # Check if the target directory exists, if not, create it\n",
        "    if not os.path.exists(target_dir):\n",
        "        os.makedirs(target_dir)\n",
        "\n",
        "    # List all files in the source directory\n",
        "    for filename in os.listdir(source_dir):\n",
        "        print(filename)\n",
        "        # Check if the file is an image and does not contain 'R1' in its name\n",
        "        if filename.lower().endswith('.tif') and 'R1C' not in filename and 'C1-' not in filename:\n",
        "            # Copy the file to the target directory\n",
        "            shutil.copy(os.path.join(source_dir, filename), os.path.join(target_dir, filename))\n",
        "            print(f\"Copied {filename} to {target_dir}\")\n",
        "\n",
        "# Usage\n",
        "copy_images_without_r1(source_dir, target_dir)\n"
      ]
    },
    {
      "cell_type": "code",
      "execution_count": 60,
      "id": "Lpa-ItyYLkhf",
      "metadata": {
        "id": "Lpa-ItyYLkhf"
      },
      "outputs": [],
      "source": [
        "image_path = images_dir.ls()[0]\n",
        "shp_path = shapefiles_dir / image_path.name.replace('TIF', 'shp')"
      ]
    },
    {
      "cell_type": "code",
      "execution_count": 61,
      "id": "8o7Gwg2osDnd",
      "metadata": {
        "id": "8o7Gwg2osDnd"
      },
      "outputs": [],
      "source": [
        "def get_all_buildings(buildings_path):\n",
        "  df = pd.read_csv(buildings_path)\n",
        "  df['geometry'] = df['geometry'].apply(wkt.loads)\n",
        "  return gpd.GeoDataFrame(df, geometry='geometry', crs=\"EPSG:4326\")\n",
        "\n",
        "def create_shapefile_for_image(image_path, buildings):\n",
        "\n",
        "  if not os.path.exists(shapefiles_dir):\n",
        "    os.mkdir(shapefiles_dir)\n",
        "  sat_image = rasterio.open(image_path)\n",
        "  bounds = sat_image.bounds\n",
        "  bounding_box = box(*bounds)\n",
        "\n",
        "  buildings = buildings.to_crs(sat_image.crs)\n",
        "\n",
        "  cropped_buildings = buildings[buildings.intersects(bounding_box)]\n",
        "\n",
        "  # Step 6: Save the Cropped Shapefile\n",
        "  shp_path = shapefiles_dir / image_path.name.replace('TIF', 'shp')\n",
        "  cropped_buildings.to_file(shp_path)\n",
        "\n",
        "  print(f\"Cropped shapefile saved to {shp_path}\")\n",
        "  return shp_path\n",
        "\n",
        "def extract_rgb_image(image_path):\n",
        "  sat_image = rasterio.open(image_path)\n",
        "  BAND_STRUCTURE = [\"coastal\", \"blue\", \"green\", \"yellow\", \"red\", \"red-edge\", \"near-IR1\", \"near-IR2\"]\n",
        "\n",
        "  def get_band(image, band_name):\n",
        "    band_idx = BAND_STRUCTURE.index(band_name) + 1\n",
        "    channel = image.read(band_idx)\n",
        "    return channel\n",
        "\n",
        "  bands = []\n",
        "\n",
        "  for band in BAND_STRUCTURE:\n",
        "      bands.append(get_band(sat_image, band))\n",
        "\n",
        "  sat_image.close()\n",
        "\n",
        "  return np.stack((bands[4], bands[2], bands[1]), axis=-1)\n"
      ]
    },
    {
      "cell_type": "markdown",
      "id": "LsCbi3JHrcka",
      "metadata": {
        "id": "LsCbi3JHrcka"
      },
      "source": [
        "## 3. Define Functions"
      ]
    },
    {
      "cell_type": "code",
      "execution_count": 24,
      "id": "EJQZMfcyJpWk",
      "metadata": {
        "id": "EJQZMfcyJpWk"
      },
      "outputs": [],
      "source": [
        "def tile_img_msk(images_dir, output_dir, tile_size: int):\n",
        "  \"\"\"Tiles both images and masks and store them as .png-files\"\"\"\n",
        "  # Create directory for image tiles\n",
        "  if not os.path.exists(output_dir/'image_tiles'):\n",
        "    os.makedirs(output_dir/'image_tiles')\n",
        "  # Create directory for mask tiles\n",
        "  if not os.path.exists(output_dir/f'mask_tiles'):\n",
        "    os.makedirs(output_dir/f'mask_tiles')\n",
        "\n",
        "  for image_path in tqdm(images_dir.iterdir()):\n",
        "    if image_path.suffix == '.TIF':\n",
        "      print(f\"Tiling image {image_path}...\")\n",
        "      rgb_image = extract_rgb_image(image_path)\n",
        "\n",
        "\n",
        "      # Load image and corresponding mask as numpy array and retrieve their shape\n",
        "      # img = np.array(PILImage.create(fn))\n",
        "      msk_fn = path / \"untiled_masks\" / image_path.name\n",
        "      msk = np.array(PILMask.create(msk_fn))\n",
        "      x, y, _ = rgb_image.shape\n",
        "\n",
        "      # Cut image and mask into tiles and store them as .png-files\n",
        "      for i in range(x // tile_size):\n",
        "        for j in range(y // tile_size):\n",
        "          img_tile = rgb_image[i*tile_size:(i+1)*tile_size, j*tile_size:(j+1)*tile_size]\n",
        "          msk_tile = msk[i*tile_size:(i+1)*tile_size, j*tile_size:(j+1)*tile_size]\n",
        "          Image.fromarray(img_tile).save(f'{output_dir}/image_tiles/{msk_fn.name[:-4]}_{i}_{j}.png')\n",
        "          Image.fromarray(msk_tile).save(f'{output_dir}/mask_tiles/{msk_fn.name[:-4]}_{i}_{j}.png')\n",
        "      print(f\"Tiled {image_path.name}.\")"
      ]
    },
    {
      "cell_type": "code",
      "execution_count": null,
      "id": "d61c5a38",
      "metadata": {
        "cellView": "form",
        "id": "d61c5a38"
      },
      "outputs": [],
      "source": [
        "#@title Tile img function\n",
        "def tile_img(rgb_image, output_path, tile_size: int, single = None):\n",
        "  \"\"\"Tile image into smaller tiles and save them\"\"\"\n",
        "  if single == False:\n",
        "    for fn in tqdm(image_path):\n",
        "      # Create directory\n",
        "      if not os.path.exists(output_path):\n",
        "        os.makedirs(output_path)\n",
        "\n",
        "      # Load image as numpy array and retrieve its shape\n",
        "      x, y, _ = rgb_image.shape\n",
        "\n",
        "      # Cut image into tiles and store them as .png-files\n",
        "      for i in range(x//tile_size):\n",
        "        for j in range(y//tile_size):\n",
        "          img_tile = rgb_image[i*tile_size:(i+1)*tile_size, j*tile_size:(j+1)*tile_size]\n",
        "          Image.fromarray(img_tile).save(f'{output_path}/{fn.name[:-4]}/{fn.name[:-4]}_{i}_{j}.png')\n",
        "\n",
        "  if single == True:\n",
        "    # Create directory\n",
        "    if not os.path.exists(output_path):\n",
        "      os.makedirs(output_path)\n",
        "\n",
        "    x, y, _ = rgb_image.shape\n",
        "\n",
        "    # Cut image into tiles and store them as .png-files\n",
        "    fn = image_path.name[:-4]\n",
        "\n",
        "        # Create a subdirectory for the image tiles\n",
        "    image_tile_dir = os.path.join(output_path, fn)\n",
        "    if not os.path.exists(image_tile_dir):\n",
        "        os.makedirs(image_tile_dir)\n",
        "\n",
        "    for i in range(x//tile_size):\n",
        "      for j in range(y//tile_size):\n",
        "        img_tile = rgb_image[i*tile_size:(i+1)*tile_size, j*tile_size:(j+1)*tile_size]\n",
        "        Image.fromarray(img_tile).save(f'{image_tile_dir}/{fn}_{i}_{j}.png')"
      ]
    },
    {
      "cell_type": "code",
      "execution_count": 72,
      "id": "oDK0Vl5k9Zdc",
      "metadata": {
        "id": "oDK0Vl5k9Zdc"
      },
      "outputs": [],
      "source": [
        "def generate_mask(raster_path, shape_path, output_path = None, file_name = None):\n",
        "    \"\"\"Function that generates a binary mask from a vector file (shp or geojson)\n",
        "    raster_path = path to the .tif;\n",
        "    shape_path = path to the shapefile or GeoJson.\n",
        "    output_path = Path to save the binary mask.\n",
        "    file_name = Name of the file.\"\"\"\n",
        "\n",
        "    # Load image\n",
        "    with rasterio.open(raster_path, \"r\") as src:\n",
        "        raster_img = src.read()\n",
        "        raster_meta = src.meta\n",
        "\n",
        "    # Load corresponding shapefile containing marked pixels\n",
        "    train_df = gpd.read_file(shape_path)\n",
        "\n",
        "    # Verify CRS and print warning message before converting if the two don't match\n",
        "    if train_df.crs != src.crs:\n",
        "      print(f'Raster CRS: {src.crs}, Vector CRS: {train_df.crs}.\\n Convert vector and raster to the same CRS.')\n",
        "      # update CRS to match the raster\n",
        "      train_df = train_df.to_crs(src.crs)\n",
        "\n",
        "\n",
        "    # Generate the mask\n",
        "    def poly_from_utm(polygon, transform):\n",
        "        poly_pts = []\n",
        "        poly = unary_union(polygon) # previously used: cascaded_union(polygon)\n",
        "        for i in np.array(poly.exterior.coords):\n",
        "            poly_pts.append( ~ transform * tuple(i))\n",
        "        new_poly = Polygon(poly_pts)\n",
        "        return new_poly\n",
        "\n",
        "    poly_shp = []\n",
        "    im_size = (src.meta['height'], src.meta['width'])\n",
        "    for num, row in train_df.iterrows():\n",
        "        if row['geometry'].geom_type == 'MultiPolygon':\n",
        "            for p in row['geometry'].geoms: # iterate over polygons within a MultiPolygon\n",
        "                poly = poly_from_utm(p, src.meta['transform'])\n",
        "                poly_shp.append(poly)\n",
        "        elif row['geometry'].geom_type == 'Polygon':\n",
        "            poly = poly_from_utm(row['geometry'], src.meta['transform'])\n",
        "            poly_shp.append(poly)\n",
        "        else:\n",
        "            # raise an error or skip the object\n",
        "            raise TypeError(\"Invalid geometry type\")\n",
        "\n",
        "    if len(poly_shp) > 0:\n",
        "        mask = rasterize(shapes=poly_shp, out_shape=im_size)\n",
        "    else:\n",
        "        mask = np.zeros(im_size)\n",
        "\n",
        "    # Save or show mask\n",
        "    kernel = np.ones((3, 3), np.uint8)\n",
        "    mask = cv2.erode(mask, kernel, iterations=1)\n",
        "    mask = mask.astype('uint8')\n",
        "    bin_mask_meta = src.meta.copy()\n",
        "    bin_mask_meta.update({'count': 1})\n",
        "    if (output_path != None and file_name != None):\n",
        "        os.chdir(output_path)\n",
        "        with rasterio.open(file_name, 'w', **bin_mask_meta) as dst:\n",
        "            dst.write(mask * 255, 1) # Change 255 to 1 if classes need to be 0 and 1\n",
        "    else:\n",
        "        return mask\n",
        "\n",
        "\n",
        "def save_masks(images_dir, mask, maskdir):\n",
        "    if not os.path.exists(maskdir):\n",
        "        os.makedirs(maskdir)\n",
        "        if images_dir.name.endswith(('.TIF', '.tif')):\n",
        "          shapes = images_dir.name\n",
        "          generate_mask(images_dir, mask, maskdir, shapes)\n",
        "    else:\n",
        "      for image in tqdm(images_dir):\n",
        "        if image.name.endswith(('.TIF', '.tif')):\n",
        "          shapes = image.name\n",
        "          generate_mask(image, mask, maskdir, shapes)\n",
        "\n",
        "def save_masks_from_buildings(images_dir, buildings_path, masks_dir):\n",
        "    buildings = get_all_buildings(buildings_path)\n",
        "    print(\"Buildings are loaded.\")\n",
        "\n",
        "    if not os.path.exists(masks_dir):\n",
        "        os.makedirs(masks_dir)\n",
        "\n",
        "    iter_dir = images_dir.iterdir() if images_dir.is_dir() else list(images_dir) # handle either file or directory\n",
        "    for img_path in tqdm(iter_dir):\n",
        "      if img_path.name.endswith(('.TIF', '.tif')):\n",
        "        shapefile_path = shapefiles_dir / img_path.name.replace('TIF', 'shp')\n",
        "        if not shapefile_path.exists():\n",
        "          print(f\"Creating shapefile for {img_path.name}..\")\n",
        "          shapefile_path = create_shapefile_for_image(img_path, buildings)\n",
        "        else:\n",
        "          print(f\"Skipping shapefile creation for {img_path.name}.\")\n",
        "        mask_path = output_dir / \"untiled_masks\" / img_path.name\n",
        "        if not mask_path.exists():\n",
        "          print(f\"Creating untiled mask for {img_path.name}..\")\n",
        "          generate_mask(img_path, shapefile_path, masks_dir, img_path.name)\n",
        "        else:\n",
        "          print(f\"Skipping untiled mask creation for {img_path.name}.\")\n",
        "\n"
      ]
    },
    {
      "cell_type": "markdown",
      "id": "h1xQElp2wGGg",
      "metadata": {
        "id": "h1xQElp2wGGg"
      },
      "source": [
        "And here we tile the images and masks for training."
      ]
    },
    {
      "cell_type": "code",
      "execution_count": 73,
      "id": "a89P8PEB--pr",
      "metadata": {
        "colab": {
          "base_uri": "https://localhost:8080/"
        },
        "id": "a89P8PEB--pr",
        "outputId": "25eec5d1-6b3a-4e38-948a-c7879cbf6382"
      },
      "outputs": [
        {
          "name": "stdout",
          "output_type": "stream",
          "text": [
            "Buildings are loaded.\n"
          ]
        },
        {
          "name": "stderr",
          "output_type": "stream",
          "text": [
            "\r0it [00:00, ?it/s]"
          ]
        },
        {
          "name": "stdout",
          "output_type": "stream",
          "text": [
            "Skipping shapefile creation for 23JUN25161448-M3DS_R2C3-016043245010_01_P001.TIF.\n",
            "Skipping untiled mask creation for 23JUN25161448-M3DS_R2C3-016043245010_01_P001.TIF.\n",
            "Skipping shapefile creation for 23JUN25161448-M3DS_R2C2-016043245010_01_P001.TIF.\n",
            "Skipping untiled mask creation for 23JUN25161448-M3DS_R2C2-016043245010_01_P001.TIF.\n",
            "Skipping shapefile creation for 23JUN25161448-M3DS_R3C2-016043245010_01_P001.TIF.\n",
            "Skipping untiled mask creation for 23JUN25161448-M3DS_R3C2-016043245010_01_P001.TIF.\n",
            "Skipping shapefile creation for 23JUN25161448-M3DS_R3C3-016043245010_01_P001.TIF.\n",
            "Skipping untiled mask creation for 23JUN25161448-M3DS_R3C3-016043245010_01_P001.TIF.\n",
            "Skipping shapefile creation for 23MAR10162619-M3DS_R2C1-016043246010_01_P001.TIF.\n",
            "Skipping untiled mask creation for 23MAR10162619-M3DS_R2C1-016043246010_01_P001.TIF.\n",
            "Skipping shapefile creation for 23MAR10162619-M3DS_R2C2-016043246010_01_P001.TIF.\n",
            "Skipping untiled mask creation for 23MAR10162619-M3DS_R2C2-016043246010_01_P001.TIF.\n",
            "Skipping shapefile creation for 23MAR10162619-M3DS_R2C3-016043246010_01_P001.TIF.\n",
            "Skipping untiled mask creation for 23MAR10162619-M3DS_R2C3-016043246010_01_P001.TIF.\n",
            "Skipping shapefile creation for 23MAR10162619-M3DS_R3C1-016043246010_01_P001.TIF.\n",
            "Creating untiled mask for 23MAR10162619-M3DS_R3C1-016043246010_01_P001.TIF..\n"
          ]
        },
        {
          "name": "stderr",
          "output_type": "stream",
          "text": [
            "\r8it [00:28,  3.51s/it]"
          ]
        },
        {
          "name": "stdout",
          "output_type": "stream",
          "text": [
            "Skipping shapefile creation for 23MAR10162619-M3DS_R3C2-016043246010_01_P001.TIF.\n",
            "Creating untiled mask for 23MAR10162619-M3DS_R3C2-016043246010_01_P001.TIF..\n"
          ]
        },
        {
          "name": "stderr",
          "output_type": "stream",
          "text": [
            "\r9it [01:12,  9.65s/it]"
          ]
        },
        {
          "name": "stdout",
          "output_type": "stream",
          "text": [
            "Skipping shapefile creation for 23MAR10162619-M3DS_R3C3-016043246010_01_P001.TIF.\n",
            "Creating untiled mask for 23MAR10162619-M3DS_R3C3-016043246010_01_P001.TIF..\n"
          ]
        },
        {
          "name": "stderr",
          "output_type": "stream",
          "text": [
            "\r10it [01:27, 10.73s/it]"
          ]
        },
        {
          "name": "stdout",
          "output_type": "stream",
          "text": [
            "Skipping shapefile creation for 23MAR10162619-M3DS_R4C1-016043246010_01_P001.TIF.\n",
            "Creating untiled mask for 23MAR10162619-M3DS_R4C1-016043246010_01_P001.TIF..\n"
          ]
        },
        {
          "name": "stderr",
          "output_type": "stream",
          "text": [
            "\r11it [01:35, 10.17s/it]"
          ]
        },
        {
          "name": "stdout",
          "output_type": "stream",
          "text": [
            "Skipping shapefile creation for 23MAR10162619-M3DS_R4C2-016043246010_01_P001.TIF.\n",
            "Creating untiled mask for 23MAR10162619-M3DS_R4C2-016043246010_01_P001.TIF..\n"
          ]
        },
        {
          "name": "stderr",
          "output_type": "stream",
          "text": [
            "\r12it [01:48, 10.62s/it]"
          ]
        },
        {
          "name": "stdout",
          "output_type": "stream",
          "text": [
            "Skipping shapefile creation for 23MAR10162619-M3DS_R4C3-016043246010_01_P001.TIF.\n",
            "Creating untiled mask for 23MAR10162619-M3DS_R4C3-016043246010_01_P001.TIF..\n"
          ]
        },
        {
          "name": "stderr",
          "output_type": "stream",
          "text": [
            "\r13it [01:55,  9.94s/it]"
          ]
        },
        {
          "name": "stdout",
          "output_type": "stream",
          "text": [
            "Skipping shapefile creation for 23MAR10162619-M3DS_R5C3-016043246010_01_P001.TIF.\n",
            "Creating untiled mask for 23MAR10162619-M3DS_R5C3-016043246010_01_P001.TIF..\n"
          ]
        },
        {
          "name": "stderr",
          "output_type": "stream",
          "text": [
            "\r14it [01:57,  7.77s/it]"
          ]
        },
        {
          "name": "stdout",
          "output_type": "stream",
          "text": [
            "Skipping shapefile creation for 23MAR10162619-M3DS_R5C2-016043246010_01_P001.TIF.\n",
            "Creating untiled mask for 23MAR10162619-M3DS_R5C2-016043246010_01_P001.TIF..\n"
          ]
        },
        {
          "name": "stderr",
          "output_type": "stream",
          "text": [
            "\r15it [01:58,  6.08s/it]"
          ]
        },
        {
          "name": "stdout",
          "output_type": "stream",
          "text": [
            "Skipping shapefile creation for 23MAR10162619-M3DS_R5C1-016043246010_01_P001.TIF.\n",
            "Creating untiled mask for 23MAR10162619-M3DS_R5C1-016043246010_01_P001.TIF..\n"
          ]
        },
        {
          "name": "stderr",
          "output_type": "stream",
          "text": [
            "19it [01:59,  6.27s/it]\n"
          ]
        },
        {
          "name": "stdout",
          "output_type": "stream",
          "text": [
            "Skipping shapefile creation for 23JUN25161448-M3DS_R4C2-016043245010_01_P001.TIF.\n",
            "Skipping untiled mask creation for 23JUN25161448-M3DS_R4C2-016043245010_01_P001.TIF.\n",
            "Skipping shapefile creation for 23JUN25161448-M3DS_R4C3-016043245010_01_P001.TIF.\n",
            "Skipping untiled mask creation for 23JUN25161448-M3DS_R4C3-016043245010_01_P001.TIF.\n",
            "Skipping shapefile creation for 23JUN25161448-M3DS_R5C2-016043245010_01_P001.TIF.\n",
            "Skipping untiled mask creation for 23JUN25161448-M3DS_R5C2-016043245010_01_P001.TIF.\n"
          ]
        }
      ],
      "source": [
        "save_masks_from_buildings(images_dir, buildings_path, output_dir / 'untiled_masks')"
      ]
    },
    {
      "cell_type": "code",
      "execution_count": 74,
      "id": "8910ae69-ed9a-4a44-a691-f8a75067255d",
      "metadata": {
        "colab": {
          "base_uri": "https://localhost:8080/"
        },
        "id": "8910ae69-ed9a-4a44-a691-f8a75067255d",
        "outputId": "87810108-2438-47bf-b663-e322a6f7bab8"
      },
      "outputs": [
        {
          "name": "stderr",
          "output_type": "stream",
          "text": [
            "\r0it [00:00, ?it/s]"
          ]
        },
        {
          "name": "stdout",
          "output_type": "stream",
          "text": [
            "Tiling image /content/drive/MyDrive/UNITAC/data/satellite_imagery/tiles/images/23JUN25161448-M3DS_R2C3-016043245010_01_P001.TIF...\n"
          ]
        },
        {
          "name": "stderr",
          "output_type": "stream",
          "text": [
            "\r1it [00:05,  5.18s/it]"
          ]
        },
        {
          "name": "stdout",
          "output_type": "stream",
          "text": [
            "Tiled 23JUN25161448-M3DS_R2C3-016043245010_01_P001.TIF.\n",
            "Tiling image /content/drive/MyDrive/UNITAC/data/satellite_imagery/tiles/images/23JUN25161448-M3DS_R2C2-016043245010_01_P001.TIF...\n"
          ]
        },
        {
          "name": "stderr",
          "output_type": "stream",
          "text": [
            "\r2it [00:15,  8.29s/it]"
          ]
        },
        {
          "name": "stdout",
          "output_type": "stream",
          "text": [
            "Tiled 23JUN25161448-M3DS_R2C2-016043245010_01_P001.TIF.\n",
            "Tiling image /content/drive/MyDrive/UNITAC/data/satellite_imagery/tiles/images/23JUN25161448-M3DS_R3C2-016043245010_01_P001.TIF...\n"
          ]
        },
        {
          "name": "stderr",
          "output_type": "stream",
          "text": [
            "\r3it [00:27,  9.70s/it]"
          ]
        },
        {
          "name": "stdout",
          "output_type": "stream",
          "text": [
            "Tiled 23JUN25161448-M3DS_R3C2-016043245010_01_P001.TIF.\n",
            "Tiling image /content/drive/MyDrive/UNITAC/data/satellite_imagery/tiles/images/23JUN25161448-M3DS_R3C3-016043245010_01_P001.TIF...\n"
          ]
        },
        {
          "name": "stderr",
          "output_type": "stream",
          "text": [
            "\r4it [00:31,  7.75s/it]"
          ]
        },
        {
          "name": "stdout",
          "output_type": "stream",
          "text": [
            "Tiled 23JUN25161448-M3DS_R3C3-016043245010_01_P001.TIF.\n",
            "Tiling image /content/drive/MyDrive/UNITAC/data/satellite_imagery/tiles/images/23MAR10162619-M3DS_R2C1-016043246010_01_P001.TIF...\n"
          ]
        },
        {
          "name": "stderr",
          "output_type": "stream",
          "text": [
            "\r5it [00:41,  8.42s/it]"
          ]
        },
        {
          "name": "stdout",
          "output_type": "stream",
          "text": [
            "Tiled 23MAR10162619-M3DS_R2C1-016043246010_01_P001.TIF.\n",
            "Tiling image /content/drive/MyDrive/UNITAC/data/satellite_imagery/tiles/images/23MAR10162619-M3DS_R2C2-016043246010_01_P001.TIF...\n"
          ]
        },
        {
          "name": "stderr",
          "output_type": "stream",
          "text": [
            "\r6it [00:48,  7.98s/it]"
          ]
        },
        {
          "name": "stdout",
          "output_type": "stream",
          "text": [
            "Tiled 23MAR10162619-M3DS_R2C2-016043246010_01_P001.TIF.\n",
            "Tiling image /content/drive/MyDrive/UNITAC/data/satellite_imagery/tiles/images/23MAR10162619-M3DS_R2C3-016043246010_01_P001.TIF...\n"
          ]
        },
        {
          "name": "stderr",
          "output_type": "stream",
          "text": [
            "\r7it [00:52,  6.69s/it]"
          ]
        },
        {
          "name": "stdout",
          "output_type": "stream",
          "text": [
            "Tiled 23MAR10162619-M3DS_R2C3-016043246010_01_P001.TIF.\n",
            "Tiling image /content/drive/MyDrive/UNITAC/data/satellite_imagery/tiles/images/23MAR10162619-M3DS_R3C1-016043246010_01_P001.TIF...\n"
          ]
        },
        {
          "name": "stderr",
          "output_type": "stream",
          "text": [
            "\r8it [00:59,  6.90s/it]"
          ]
        },
        {
          "name": "stdout",
          "output_type": "stream",
          "text": [
            "Tiled 23MAR10162619-M3DS_R3C1-016043246010_01_P001.TIF.\n",
            "Tiling image /content/drive/MyDrive/UNITAC/data/satellite_imagery/tiles/images/23MAR10162619-M3DS_R3C2-016043246010_01_P001.TIF...\n"
          ]
        },
        {
          "name": "stderr",
          "output_type": "stream",
          "text": [
            "\r9it [01:07,  7.00s/it]"
          ]
        },
        {
          "name": "stdout",
          "output_type": "stream",
          "text": [
            "Tiled 23MAR10162619-M3DS_R3C2-016043246010_01_P001.TIF.\n",
            "Tiling image /content/drive/MyDrive/UNITAC/data/satellite_imagery/tiles/images/23MAR10162619-M3DS_R3C3-016043246010_01_P001.TIF...\n"
          ]
        },
        {
          "name": "stderr",
          "output_type": "stream",
          "text": [
            "\r10it [01:12,  6.37s/it]"
          ]
        },
        {
          "name": "stdout",
          "output_type": "stream",
          "text": [
            "Tiled 23MAR10162619-M3DS_R3C3-016043246010_01_P001.TIF.\n",
            "Tiling image /content/drive/MyDrive/UNITAC/data/satellite_imagery/tiles/images/23MAR10162619-M3DS_R4C1-016043246010_01_P001.TIF...\n"
          ]
        },
        {
          "name": "stderr",
          "output_type": "stream",
          "text": [
            "\r11it [01:19,  6.83s/it]"
          ]
        },
        {
          "name": "stdout",
          "output_type": "stream",
          "text": [
            "Tiled 23MAR10162619-M3DS_R4C1-016043246010_01_P001.TIF.\n",
            "Tiling image /content/drive/MyDrive/UNITAC/data/satellite_imagery/tiles/images/23MAR10162619-M3DS_R4C2-016043246010_01_P001.TIF...\n"
          ]
        },
        {
          "name": "stderr",
          "output_type": "stream",
          "text": [
            "\r12it [01:27,  7.05s/it]"
          ]
        },
        {
          "name": "stdout",
          "output_type": "stream",
          "text": [
            "Tiled 23MAR10162619-M3DS_R4C2-016043246010_01_P001.TIF.\n",
            "Tiling image /content/drive/MyDrive/UNITAC/data/satellite_imagery/tiles/images/23MAR10162619-M3DS_R4C3-016043246010_01_P001.TIF...\n"
          ]
        },
        {
          "name": "stderr",
          "output_type": "stream",
          "text": [
            "\r13it [01:32,  6.55s/it]"
          ]
        },
        {
          "name": "stdout",
          "output_type": "stream",
          "text": [
            "Tiled 23MAR10162619-M3DS_R4C3-016043246010_01_P001.TIF.\n",
            "Tiling image /content/drive/MyDrive/UNITAC/data/satellite_imagery/tiles/images/23MAR10162619-M3DS_R5C3-016043246010_01_P001.TIF...\n"
          ]
        },
        {
          "name": "stderr",
          "output_type": "stream",
          "text": [
            "\r14it [01:33,  4.77s/it]"
          ]
        },
        {
          "name": "stdout",
          "output_type": "stream",
          "text": [
            "Tiled 23MAR10162619-M3DS_R5C3-016043246010_01_P001.TIF.\n",
            "Tiling image /content/drive/MyDrive/UNITAC/data/satellite_imagery/tiles/images/23MAR10162619-M3DS_R5C2-016043246010_01_P001.TIF...\n"
          ]
        },
        {
          "name": "stderr",
          "output_type": "stream",
          "text": [
            "\r15it [01:35,  3.80s/it]"
          ]
        },
        {
          "name": "stdout",
          "output_type": "stream",
          "text": [
            "Tiled 23MAR10162619-M3DS_R5C2-016043246010_01_P001.TIF.\n",
            "Tiling image /content/drive/MyDrive/UNITAC/data/satellite_imagery/tiles/images/23MAR10162619-M3DS_R5C1-016043246010_01_P001.TIF...\n"
          ]
        },
        {
          "name": "stderr",
          "output_type": "stream",
          "text": [
            "\r16it [01:36,  3.08s/it]"
          ]
        },
        {
          "name": "stdout",
          "output_type": "stream",
          "text": [
            "Tiled 23MAR10162619-M3DS_R5C1-016043246010_01_P001.TIF.\n",
            "Tiling image /content/drive/MyDrive/UNITAC/data/satellite_imagery/tiles/images/23JUN25161448-M3DS_R4C2-016043245010_01_P001.TIF...\n"
          ]
        },
        {
          "name": "stderr",
          "output_type": "stream",
          "text": [
            "\r17it [01:46,  5.19s/it]"
          ]
        },
        {
          "name": "stdout",
          "output_type": "stream",
          "text": [
            "Tiled 23JUN25161448-M3DS_R4C2-016043245010_01_P001.TIF.\n",
            "Tiling image /content/drive/MyDrive/UNITAC/data/satellite_imagery/tiles/images/23JUN25161448-M3DS_R4C3-016043245010_01_P001.TIF...\n"
          ]
        },
        {
          "name": "stderr",
          "output_type": "stream",
          "text": [
            "19it [01:51,  5.85s/it]"
          ]
        },
        {
          "name": "stdout",
          "output_type": "stream",
          "text": [
            "Tiled 23JUN25161448-M3DS_R4C3-016043245010_01_P001.TIF.\n",
            "Tiling image /content/drive/MyDrive/UNITAC/data/satellite_imagery/tiles/images/23JUN25161448-M3DS_R5C2-016043245010_01_P001.TIF...\n",
            "Tiled 23JUN25161448-M3DS_R5C2-016043245010_01_P001.TIF.\n"
          ]
        },
        {
          "name": "stderr",
          "output_type": "stream",
          "text": [
            "\n"
          ]
        }
      ],
      "source": [
        "# Tile images and masks with a stride of 0 pixels\n",
        "tile_size = 512\n",
        "tile_img_msk(images_dir, output_dir, tile_size)"
      ]
    },
    {
      "cell_type": "code",
      "execution_count": null,
      "id": "ww1eshJS-8RT",
      "metadata": {
        "id": "ww1eshJS-8RT"
      },
      "outputs": [],
      "source": []
    }
  ],
  "metadata": {
    "colab": {
      "machine_shape": "hm",
      "provenance": []
    },
    "kernelspec": {
      "display_name": "Python 3 (ipykernel)",
      "language": "python",
      "name": "python3"
    },
    "language_info": {
      "codemirror_mode": {
        "name": "ipython",
        "version": 3
      },
      "file_extension": ".py",
      "mimetype": "text/x-python",
      "name": "python",
      "nbconvert_exporter": "python",
      "pygments_lexer": "ipython3",
      "version": "3.9.7"
    }
  },
  "nbformat": 4,
  "nbformat_minor": 5
}

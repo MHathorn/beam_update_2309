{
 "cells": [
  {
   "cell_type": "code",
   "execution_count": 2,
   "metadata": {},
   "outputs": [],
   "source": [
    "import json\n",
    "from pathlib import Path\n",
    "import shutil\n",
    "\n",
    "import geopandas as gpd\n",
    "import matplotlib.pyplot as plt\n",
    "import numpy as np\n",
    "import pandas as pd\n",
    "from PIL import Image, ImageDraw\n",
    "import rioxarray as rxr\n",
    "from shapely.geometry import Polygon, box\n",
    "from tqdm import tqdm\n",
    "\n",
    "from utils.helpers import get_rgb_channels\n",
    "\n",
    "root_dir = Path('/datadrive/hand_labels')\n",
    "json_dir =root_dir / 'json_export'\n",
    "img_input_dir = root_dir / 'import_candidates/input_128px'\n",
    "img_dir = root_dir / 'images_import'\n",
    "shp_dir = root_dir / 'shp_labels'"
   ]
  },
  {
   "cell_type": "code",
   "execution_count": 6,
   "metadata": {},
   "outputs": [],
   "source": [
    "\n",
    "def print_structure(data, indent=0):\n",
    "    for key, value in data.items():\n",
    "        print('  ' * indent + str(key))\n",
    "        if isinstance(value, dict):\n",
    "            print_structure(value, indent+1)\n",
    "        elif isinstance(value, list) and isinstance(value[0], dict) and len(value) > 0:\n",
    "            print_structure(value[0], indent+1)\n",
    "\n",
    "# for file in json_dir.iterdir():\n",
    "#     with open(file) as f:\n",
    "#         data = json.load(f)\n",
    "\n",
    "#     print_structure(data[0])\n",
    "#     break\n"
   ]
  },
  {
   "cell_type": "code",
   "execution_count": 3,
   "metadata": {},
   "outputs": [],
   "source": [
    "def get_image_names(json_data):\n",
    "    input_images = []\n",
    "    for task in json_data:\n",
    "        img_id = task[\"file_upload\"]\n",
    "        parts = img_id.split('-', 1) # Split the string at the first occurrence of '-'\n",
    "        new_string = parts[1] if len(parts) > 1 else parts[0]\n",
    "        input_images.append(new_string)\n",
    "    return input_images\n",
    "\n",
    "\n",
    "def move_files(input_images, img_input_dir, img_dir):\n",
    "    for img_name in input_images:\n",
    "        \n",
    "        tif_name = Path(img_name).with_suffix('.TIF')\n",
    "        src_tif_file = img_input_dir / \"images\" / tif_name\n",
    "        for sub_dir, name in [(\"png\", img_name), (\"images\", tif_name)]:\n",
    "            src_file = img_input_dir / sub_dir / name\n",
    "            if src_file.exists():\n",
    "                dst_file = img_dir / sub_dir / name\n",
    "                dst_file.parent.mkdir(parents=True, exist_ok=True)\n",
    "                shutil.copy2(src_file, dst_file)\n",
    "            else:\n",
    "                print(f'File {src_file} not found.')\n",
    "\n",
    "\n",
    "def extract_name_from_task(task):\n",
    "    img_id = task[\"file_upload\"]\n",
    "    parts = img_id.split('-', 1) # Split the string at the first occurrence of '-'\n",
    "    return parts[1] if len(parts) > 1 else parts[0]\n",
    "\n",
    "\n",
    "def get_gdf_from_result(result, img, crs):\n",
    "    tile_size = int(result[\"original_width\"]) # make sure tiles are square\n",
    "    points = result[\"value\"][\"points\"]\n",
    "    \n",
    "    points = [img.rio.transform() * (tile_size / 100 * np.array(point))  for point in points]\n",
    "    # draw.polygon(points, outline =\"red\")\n",
    "\n",
    "    polygon = Polygon(points)\n",
    "    label = result[\"value\"][\"polygonlabels\"][0]\n",
    "    gdf = gpd.GeoDataFrame({'image_name': [img.name], 'image_bounds': [box(*img.rio.bounds())], 'geometry': [polygon], 'label': [label]}, geometry='geometry', crs=img.rio.crs)\n",
    "    gdf = gdf.to_crs(crs)\n",
    "    return gdf\n",
    "\n",
    "\n",
    "  \n",
    "def convert_task_to_gdf(task, crs):\n",
    "    img_name = extract_name_from_task(task)\n",
    "\n",
    "    tif_img_dir = Path('/datadrive/hand_labels/images_import/images')\n",
    "    img_path = (tif_img_dir / img_name).with_suffix('.TIF')\n",
    "    img = rxr.open_rasterio(img_path, default_name=img_path.name)\n",
    "    if img.rio.crs != crs:\n",
    "        img = img.rio.reproject(crs)\n",
    "        print(f\"Reprojecting {img_name}\")\n",
    "\n",
    "    gdf_list = [get_gdf_from_result(result, img, crs) \n",
    "                for annotation in task[\"annotations\"] \n",
    "                for result in annotation[\"result\"] \n",
    "                if result]\n",
    "    if gdf_list:\n",
    "        return pd.concat(gdf_list, ignore_index=True)\n",
    "    else:\n",
    "        print(f\"No labels could be found for task {img_name}.\")\n",
    "    \n"
   ]
  },
  {
   "cell_type": "code",
   "execution_count": 5,
   "metadata": {},
   "outputs": [
    {
     "name": "stdout",
     "output_type": "stream",
     "text": [
      "<xarray.DataArray '23JUN18160657-M3DS_R4C2-016144386010_01_P001_r5_c1_r3_c2.TIF' (\n",
      "                                                                                  band: 8,\n",
      "                                                                                  y: 130,\n",
      "                                                                                  x: 130)>\n",
      "array([[[255, 255, 255, ..., 165, 255, 255],\n",
      "        [255, 255, 255, ..., 165, 255, 255],\n",
      "        [ 95,  88,  68, ..., 166, 255, 255],\n",
      "        ...,\n",
      "        [255, 255,  61, ...,  72,  74,  76],\n",
      "        [255, 255,  72, ..., 255, 255, 255],\n",
      "        [255, 255,  88, ..., 255, 255, 255]],\n",
      "\n",
      "       [[255, 255, 255, ..., 171, 255, 255],\n",
      "        [255, 255, 255, ..., 172, 255, 255],\n",
      "        [ 96,  89,  69, ..., 173, 255, 255],\n",
      "        ...,\n",
      "        [255, 255,  65, ...,  75,  74,  77],\n",
      "        [255, 255,  77, ..., 255, 255, 255],\n",
      "        [255, 255,  94, ..., 255, 255, 255]],\n",
      "\n",
      "       [[255, 255, 255, ..., 177, 255, 255],\n",
      "        [255, 255, 255, ..., 179, 255, 255],\n",
      "        [104,  95,  77, ..., 180, 255, 255],\n",
      "        ...,\n",
      "...\n",
      "        ...,\n",
      "        [255, 255,  99, ...,  61,  62,  63],\n",
      "        [255, 255, 108, ..., 255, 255, 255],\n",
      "        [255, 255, 123, ..., 255, 255, 255]],\n",
      "\n",
      "       [[255, 255, 255, ..., 169, 255, 255],\n",
      "        [255, 255, 255, ..., 170, 255, 255],\n",
      "        [121, 117, 122, ..., 171, 255, 255],\n",
      "        ...,\n",
      "        [255, 255, 149, ...,  81,  80,  81],\n",
      "        [255, 255, 160, ..., 255, 255, 255],\n",
      "        [255, 255, 166, ..., 255, 255, 255]],\n",
      "\n",
      "       [[255, 255, 255, ..., 158, 255, 255],\n",
      "        [255, 255, 255, ..., 158, 255, 255],\n",
      "        [115, 109, 117, ..., 159, 255, 255],\n",
      "        ...,\n",
      "        [255, 255, 150, ...,  77,  78,  77],\n",
      "        [255, 255, 156, ..., 255, 255, 255],\n",
      "        [255, 255, 156, ..., 255, 255, 255]]], dtype=uint8)\n",
      "Coordinates:\n",
      "  * x            (x) float64 8.293e+05 8.293e+05 ... 8.294e+05 8.294e+05\n",
      "  * y            (y) float64 1.096e+06 1.096e+06 ... 1.096e+06 1.096e+06\n",
      "  * band         (band) int64 1 2 3 4 5 6 7 8\n",
      "    spatial_ref  int64 0\n",
      "Attributes:\n",
      "    AREA_OR_POINT:             Area\n",
      "    long_name:                 23JUN18160657-M3DS_R4C2-016144386010_01_P001\n",
      "    TIFFTAG_COPYRIGHT:         (C) COPYRIGHT 2023 DigitalGlobe, Inc., Longmon...\n",
      "    TIFFTAG_DATETIME:          2023:12:13 21:10:16\n",
      "    TIFFTAG_IMAGEDESCRIPTION:  [-1.]\n",
      "    TIFFTAG_MAXSAMPLEVALUE:    255\n",
      "    TIFFTAG_MINSAMPLEVALUE:    1\n",
      "    scale_factor:              1.0\n",
      "    add_offset:                0.0\n",
      "    _FillValue:                255\n",
      "(829264.7734788281, 1095921.728464558, 829427.2777776392, 1096084.2327633693)\n"
     ]
    }
   ],
   "source": [
    "img_name = '23JUN18160657-M3DS_R4C2-016144386010_01_P001_r5_c1_r3_c2.png'\n",
    "r4c2_task = [task for task in data if extract_name_from_task(task) == img_name][0]\n",
    "tif_img_dir = Path('/datadrive/hand_labels/images_import/images')\n",
    "img_path = (tif_img_dir / img_name).with_suffix('.TIF')\n",
    "img = rxr.open_rasterio(img_path, default_name=img_path.name)\n",
    "if img.rio.crs != crs:\n",
    "    img = img.rio.reproject(crs)\n",
    "    print(img)\n",
    "print(img.rio.bounds())"
   ]
  },
  {
   "cell_type": "code",
   "execution_count": 37,
   "metadata": {},
   "outputs": [
    {
     "name": "stderr",
     "output_type": "stream",
     "text": [
      "0it [00:00, ?it/s]"
     ]
    },
    {
     "name": "stdout",
     "output_type": "stream",
     "text": [
      "Processing dora-at-2024-01-15-16-42-2d24b852.json\n",
      "Fetching images\n",
      "Converting to geoDataframe\n",
      "Reprojecting 23JUN18160657-M3DS_R4C2-016144386010_01_P001_r5_c1_r0_c0.png\n",
      "Reprojecting 23JUN18160657-M3DS_R4C2-016144386010_01_P001_r5_c1_r0_c1.png\n",
      "No labels could be found for task 23JUN18160657-M3DS_R4C2-016144386010_01_P001_r5_c1_r0_c1.png.\n",
      "Reprojecting 23JUN18160657-M3DS_R4C2-016144386010_01_P001_r5_c1_r0_c2.png\n",
      "No labels could be found for task 23JUN18160657-M3DS_R4C2-016144386010_01_P001_r5_c1_r0_c2.png.\n",
      "Reprojecting 23JUN18160657-M3DS_R4C2-016144386010_01_P001_r5_c1_r0_c3.png\n"
     ]
    },
    {
     "name": "stderr",
     "output_type": "stream",
     "text": [
      "1it [00:05,  5.09s/it]"
     ]
    },
    {
     "name": "stdout",
     "output_type": "stream",
     "text": [
      "Processing frederike-at-2024-02-02-15-56-8f0455d4.json\n",
      "Fetching images\n",
      "Converting to geoDataframe\n"
     ]
    },
    {
     "name": "stderr",
     "output_type": "stream",
     "text": [
      "2it [00:13,  6.86s/it]"
     ]
    },
    {
     "name": "stdout",
     "output_type": "stream",
     "text": [
      "Processing mert-at-2024-01-31-23-06-6e6eec71.json\n",
      "Fetching images\n",
      "Converting to geoDataframe\n",
      "No labels could be found for task 23JUL28162837-M3DS_R3C1-016043586010_01_P001_r4_c2_r2_c1.png.\n",
      "Reprojecting 23JUN18160657-M3DS_R4C2-016144386010_01_P001_r5_c1_r1_c0.png\n",
      "No labels could be found for task 23JUN18160657-M3DS_R4C2-016144386010_01_P001_r5_c1_r1_c0.png.\n",
      "Reprojecting 23JUN18160657-M3DS_R4C2-016144386010_01_P001_r5_c1_r1_c1.png\n",
      "Reprojecting 23JUN18160657-M3DS_R4C2-016144386010_01_P001_r5_c1_r1_c2.png\n",
      "Reprojecting 23JUN18160657-M3DS_R4C2-016144386010_01_P001_r5_c1_r1_c3.png\n",
      "Reprojecting 23JUN18160713-M3DS_R2C1-016144385010_01_P001_r7_c7_r2_c2.png\n",
      "Reprojecting 23JUN18160713-M3DS_R2C1-016144385010_01_P001_r7_c7_r2_c3.png\n"
     ]
    },
    {
     "name": "stderr",
     "output_type": "stream",
     "text": [
      "3it [00:23,  8.40s/it]"
     ]
    },
    {
     "name": "stdout",
     "output_type": "stream",
     "text": [
      "Processing michael-at-2024-01-29-15-31-50b48d2e.json\n",
      "Fetching images\n",
      "Converting to geoDataframe\n",
      "Reprojecting 23JUN18160657-M3DS_R4C2-016144386010_01_P001_r5_c1_r2_c0.png\n",
      "Reprojecting 23JUN18160657-M3DS_R4C2-016144386010_01_P001_r5_c1_r2_c1.png\n",
      "Reprojecting 23JUN18160657-M3DS_R4C2-016144386010_01_P001_r5_c1_r2_c2.png\n",
      "Reprojecting 23JUN18160657-M3DS_R4C2-016144386010_01_P001_r5_c1_r2_c3.png\n",
      "Reprojecting 23JUN18160713-M3DS_R2C1-016144385010_01_P001_r7_c7_r1_c1.png\n",
      "Reprojecting 23JUN18160713-M3DS_R2C1-016144385010_01_P001_r7_c7_r1_c2.png\n",
      "Reprojecting 23JUN18160713-M3DS_R2C1-016144385010_01_P001_r7_c7_r1_c3.png\n"
     ]
    },
    {
     "name": "stderr",
     "output_type": "stream",
     "text": [
      "4it [00:33,  9.15s/it]"
     ]
    },
    {
     "name": "stdout",
     "output_type": "stream",
     "text": [
      "Processing nathan-at-2024-02-06-17-54-a0e43c3c.json\n",
      "Fetching images\n",
      "Converting to geoDataframe\n",
      "Reprojecting 23JUN18160657-M3DS_R4C2-016144386010_01_P001_r5_c1_r3_c1.png\n",
      "Reprojecting 23JUN18160657-M3DS_R4C2-016144386010_01_P001_r5_c1_r3_c2.png\n",
      "Reprojecting 23JUN18160657-M3DS_R4C2-016144386010_01_P001_r5_c1_r3_c3.png\n",
      "Reprojecting 23JUN18160713-M3DS_R2C1-016144385010_01_P001_r7_c7_r0_c0.png\n",
      "Reprojecting 23JUN18160713-M3DS_R2C1-016144385010_01_P001_r7_c7_r0_c1.png\n",
      "Reprojecting 23JUN18160713-M3DS_R2C1-016144385010_01_P001_r7_c7_r0_c2.png\n",
      "Reprojecting 23JUN18160713-M3DS_R2C1-016144385010_01_P001_r7_c7_r0_c3.png\n",
      "Reprojecting 23JUN18160657-M3DS_R4C2-016144386010_01_P001_r5_c1_r3_c0.png\n",
      "Reprojecting 23JUN18160713-M3DS_R2C1-016144385010_01_P001_r7_c7_r3_c1.png\n",
      "Reprojecting 23JUN18160713-M3DS_R2C1-016144385010_01_P001_r7_c7_r3_c3.png\n"
     ]
    },
    {
     "name": "stderr",
     "output_type": "stream",
     "text": [
      "5it [00:49,  9.88s/it]\n"
     ]
    }
   ],
   "source": [
    "file_gdfs = []\n",
    "for file in tqdm(json_dir.iterdir()):\n",
    "    crs = \"EPSG:32616\"\n",
    "    print(f\"Processing {file.name}\")    \n",
    "    with open(file) as f:\n",
    "        data = json.load(f)\n",
    "        input_images = get_image_names(data)\n",
    "        print(\"Fetching images\")    \n",
    "        # move_files(input_images, img_input_dir=img_input_dir, img_dir=img_dir)\n",
    "\n",
    "        print(\"Converting to geoDataframe\")\n",
    "        gdf_list = [convert_task_to_gdf(task, crs) for task in data]\n",
    "        file_gdfs.append(pd.concat(gdf_list, ignore_index=True))\n",
    "gdf = pd.concat(file_gdfs, ignore_index=True)\n",
    "# gdf.drop(columns=[\"image_bounds\"]).to_file(shp_dir / \"labeled_buildings.shp\") # labels geoDF\n",
    "images_gdf = gdf.set_geometry('image_bounds').groupby(['image_name','image_bounds']).count().reset_index().set_geometry('image_bounds').set_crs(crs)\n",
    "\n",
    "\n"
   ]
  },
  {
   "cell_type": "code",
   "execution_count": 38,
   "metadata": {},
   "outputs": [
    {
     "name": "stderr",
     "output_type": "stream",
     "text": [
      "  1%|          | 45/4640 [00:00<00:31, 147.07it/s]"
     ]
    },
    {
     "name": "stderr",
     "output_type": "stream",
     "text": [
      "100%|██████████| 4640/4640 [01:08<00:00, 67.68it/s] \n"
     ]
    }
   ],
   "source": [
    "sat_tiles = images_gdf.image_name.apply(lambda x: '-'.join(x.split('-')[:-1]).replace('M3DS', 'PS3DS')).unique()\n",
    "img_tiles_dir = Path('/datadrive/merged_PS/tiles/images')\n",
    "regex_match_tiles = []\n",
    "for prefix in sat_tiles:\n",
    "    regex_match_tiles.extend(img_tiles_dir.glob(f'{prefix}*'))\n",
    "\n",
    "boxes_gdfs = []\n",
    "for img_path in tqdm(regex_match_tiles):\n",
    "    img = rxr.open_rasterio(img_path, default_name=img_path.name)\n",
    "    if img.rio.crs != images_gdf.crs:\n",
    "        img = img.rio.reproject(images_gdf.crs)\n",
    "    boxes_gdfs.append({'geometry': box(*img.rio.bounds()), 'name': img.name})\n",
    "tiles_gdf = gpd.GeoDataFrame(boxes_gdfs)\n",
    "tiles_gdf.crs = images_gdf.crs\n",
    "# joined_gdf = gpd.sjoin(tiles_gdf, images_gdf, how='inner', op='intersects')\n",
    "# joined_gdf = gpd.sjoin(images_gdf, tiles_gdf, how='left', op='contains')\n",
    "# joined_gdf[joined_gdf.name.isna()]\n",
    "# joined_gdf.shape"
   ]
  },
  {
   "cell_type": "code",
   "execution_count": null,
   "metadata": {},
   "outputs": [],
   "source": [
    "images_gdf2= images_gdf.copy()\n",
    "images_gdf2['centroid'] = images_gdf2.geometry.centroid\n",
    "images_gdf2 = images_gdf2.set_geometry('centroid')\n",
    "tiles_gdf['centroid'] = tiles_gdf.geometry.centroid\n",
    "tiles_gdf = tiles_gdf.set_geometry('centroid')\n",
    "joined_gdf = gpd.sjoin_nearest(images_gdf2, tiles_gdf, how='left', distance_col='distance')\n",
    "\n"
   ]
  },
  {
   "cell_type": "code",
   "execution_count": 43,
   "metadata": {},
   "outputs": [
    {
     "name": "stderr",
     "output_type": "stream",
     "text": [
      "Bad pipe message: %s [b'\\x91\\x98\\t\\xd2\\x11U\\x91\\x1cR\\x11\\xda\\xa2\\xef\\x00\\xbeLR\\xc8 \\xeamm\\xc0\\xe7\\x8cWw\\xba\\t]\\xee\\xbe\\xf9\\x8b\\x8a\\xeaGQ\\xdaP\\xa8]+S\\xb2\\xe0\\x8b\\xd5@\\xb0\\xec\\x00\\x08\\x13\\x02\\x13\\x03\\x13\\x01\\x00\\xff\\x01\\x00\\x00\\x8f\\x00\\x00\\x00\\x0e\\x00\\x0c\\x00\\x00\\t127.0.0.1\\x00\\x0b\\x00\\x04\\x03\\x00\\x01\\x02\\x00\\n\\x00\\x0c\\x00\\n\\x00\\x1d\\x00\\x17\\x00\\x1e\\x00\\x19\\x00\\x18\\x00#\\x00\\x00\\x00\\x16\\x00\\x00\\x00\\x17\\x00\\x00\\x00\\r\\x00\\x1e\\x00\\x1c\\x04\\x03\\x05\\x03\\x06\\x03\\x08\\x07\\x08\\x08\\x08\\t\\x08\\n\\x08\\x0b\\x08\\x04\\x08\\x05\\x08\\x06\\x04\\x01\\x05\\x01\\x06\\x01\\x00+\\x00\\x03\\x02\\x03\\x04\\x00-\\x00\\x02\\x01']\n",
      "Bad pipe message: %s [b'']\n",
      "Bad pipe message: %s [b'\\xfbXa\\xd5\\x0c\\x95 ;\\xea;\\x9e.Z\\xa1\\xf6D\\xd6\\xb3\\x00\\x00>\\xc0\\x14\\xc0\\n\\x009\\x008\\x007\\x006\\xc0\\x0f\\xc0\\x05\\x005\\xc0\\x13\\xc0\\t\\x003\\x002\\x001\\x000\\xc0\\x0e\\xc0\\x04\\x00/\\x00\\x9a\\x00\\x99\\x00\\x98\\x00\\x97\\x00\\x96\\x00\\x07\\xc0\\x11\\xc0\\x07\\xc0\\x0c\\xc0\\x02\\x00\\x05\\x00\\x04\\x00\\xff\\x02']\n",
      "Bad pipe message: %s [b'']\n",
      "Bad pipe message: %s [b'.w\\xaey\\xb9k\\xae|\\xa21.;-\\x00\\xd9bk0\\x00\\x00\\xa2\\xc0\\x14\\xc0\\n\\x009\\x008\\x007\\x006\\x00\\x88\\x00\\x87\\x00\\x86\\x00\\x85\\xc0\\x19\\x00:\\x00\\x89\\xc0\\x0f\\xc0\\x05\\x005\\x00\\x84\\xc0\\x13\\xc0\\t\\x003\\x002\\x001\\x000\\x00\\x9a\\x00\\x99\\x00\\x98\\x00\\x97\\x00E\\x00D\\x00C\\x00B\\xc0\\x18\\x004\\x00\\x9b\\x00F\\xc0\\x0e\\xc0\\x04\\x00/\\x00\\x96\\x00A\\x00\\x07\\xc0\\x11\\xc0\\x07\\xc0\\x16\\x00\\x18\\xc0\\x0c\\xc0\\x02\\x00\\x05\\x00\\x04\\xc0\\x12\\xc0\\x08\\x00\\x16\\x00\\x13\\x00\\x10\\x00\\r\\xc0\\x17\\x00\\x1b\\xc0\\r\\xc0\\x03\\x00\\n\\x00\\x15\\x00\\x12\\x00\\x0f\\x00\\x0c\\x00\\x1a\\x00\\t\\x00\\x14\\x00\\x11\\x00\\x19\\x00\\x08\\x00\\x06\\x00\\x17\\x00\\x03\\xc0\\x10\\xc0\\x06\\xc0\\x15\\xc0\\x0b\\xc0\\x01\\x00\\x02\\x00\\x01\\x00\\xff\\x02\\x01\\x00\\x00C\\x00\\x00\\x00\\x0e\\x00\\x0c\\x00\\x00\\t127.0.0.1\\x00\\x0b\\x00\\x04\\x03\\x00\\x01\\x02\\x00\\n\\x00\\x1c\\x00\\x1a\\x00', b'\\x19\\x00\\x1c\\x00\\x1b\\x00\\x18\\x00\\x1a\\x00\\x16\\x00\\x0e\\x00\\r\\x00\\x0b\\x00\\x0c\\x00\\t\\x00']\n",
      "Bad pipe message: %s [b'#\\x00\\x00\\x00\\x0f\\x00\\x01\\x01\\x15']\n",
      "Bad pipe message: %s [b'\\x93T\\xd4\\x9cf\\xf3\\x00\\xfe\\xcf\\x8bG{>\\x9bA\\n_\\xfe\\x00\\x00\\x86\\xc00\\xc0,', b\"\\xc0$\\xc0\\x14\\xc0\\n\\x00\\xa5\\x00\\xa3\\x00\\xa1\\x00\\x9f\\x00k\\x00j\\x00i\\x00h\\x009\\x008\\x007\\x006\\xc02\\xc0.\\xc0*\\xc0&\\xc0\\x0f\\xc0\\x05\\x00\\x9d\\x00=\\x005\\xc0/\\xc0+\\xc0'\\xc0#\\xc0\\x13\\xc0\\t\\x00\\xa4\\x00\\xa2\\x00\\xa0\\x00\\x9e\\x00g\\x00@\\x00?\\x00>\\x003\\x002\\x001\\x000\\xc01\\xc0-\\xc0)\\xc0%\\xc0\\x0e\\xc0\\x04\\x00\\x9c\\x00<\\x00/\\x00\\x9a\\x00\\x99\\x00\\x98\\x00\\x97\\x00\\x96\\x00\\x07\\xc0\\x11\\xc0\\x07\\xc0\\x0c\\xc0\\x02\\x00\\x05\\x00\\x04\\x00\\xff\\x02\\x01\\x00\\x00g\\x00\\x00\\x00\\x0e\\x00\\x0c\\x00\\x00\\t127.0.0.1\\x00\\x0b\\x00\\x04\\x03\\x00\\x01\\x02\\x00\\n\\x00\\x1c\\x00\\x1a\\x00\\x17\\x00\\x19\\x00\\x1c\\x00\\x1b\\x00\\x18\\x00\\x1a\\x00\\x16\\x00\\x0e\\x00\\r\\x00\\x0b\\x00\\x0c\\x00\\t\\x00\\n\"]\n",
      "Bad pipe message: %s [b\"\\xeb\\xf4\\xbb\\xae\\\\T0\\x11\\xb9M\\x7f\\x99K\\x92\\x932FI\\x00\\x00\\xf4\\xc00\\xc0,\\xc0(\\xc0$\\xc0\\x14\\xc0\\n\\x00\\xa5\\x00\\xa3\\x00\\xa1\\x00\\x9f\\x00k\\x00j\\x00i\\x00h\\x009\\x008\\x007\\x006\\x00\\x88\\x00\\x87\\x00\\x86\\x00\\x85\\xc0\\x19\\x00\\xa7\\x00m\\x00:\\x00\\x89\\xc02\\xc0.\\xc0*\\xc0&\\xc0\\x0f\\xc0\\x05\\x00\\x9d\\x00=\\x005\\x00\\x84\\xc0/\\xc0+\\xc0'\\xc0#\\xc0\\x13\\xc0\\t\\x00\\xa4\\x00\\xa2\\x00\\xa0\\x00\\x9e\\x00g\\x00@\\x00?\\x00>\\x003\\x002\\x001\\x000\\x00\\x9a\\x00\\x99\\x00\\x98\\x00\\x97\\x00E\\x00D\\x00C\\x00B\\xc0\\x18\\x00\\xa6\\x00l\\x004\\x00\\x9b\\x00F\\xc01\\xc0-\\xc0)\\xc0%\\xc0\\x0e\\xc0\\x04\\x00\\x9c\\x00<\\x00\", b'\\x96\\x00A\\x00\\x07\\xc0\\x11\\xc0\\x07\\xc0\\x16\\x00\\x18\\xc0\\x0c\\xc0\\x02\\x00\\x05\\x00\\x04\\xc0\\x12\\xc0\\x08\\x00\\x16\\x00\\x13\\x00\\x10\\x00\\r\\xc0\\x17\\x00\\x1b\\xc0\\r\\xc0\\x03\\x00\\n\\x00\\x15\\x00']\n",
      "Bad pipe message: %s [b'\\x0f\\x00\\x0c\\x00\\x1a\\x00\\t\\x00\\x14\\x00\\x11\\x00\\x19\\x00\\x08\\x00\\x06']\n"
     ]
    }
   ],
   "source": [
    "model_dir = Path(\"/datadrive/hand_labels_model\")\n",
    "\n",
    "if not model_dir.exists():\n",
    "    model_dir.mkdir()\n",
    "    (model_dir / \"images\").mkdir()\n",
    "    (model_dir / \"labels\").mkdir()\n",
    "\n",
    "for file_name in joined_gdf[joined_gdf['distance'] == 0].name.unique():\n",
    "    source_path = img_tiles_dir / file_name\n",
    "    dest_path = model_dir / \"images\" / file_name\n",
    "    shutil.copy2(source_path, dest_path)\n",
    "\n",
    "gdf.drop(columns=[\"image_bounds\"])[gdf.image_name.isin(joined_gdf[joined_gdf['distance'] == 0].image_name)].to_file(model_dir / \"labels/hand_labels.shp\")\n"
   ]
  },
  {
   "cell_type": "code",
   "execution_count": null,
   "metadata": {},
   "outputs": [],
   "source": []
  }
 ],
 "metadata": {
  "kernelspec": {
   "display_name": "beam",
   "language": "python",
   "name": "python3"
  },
  "language_info": {
   "codemirror_mode": {
    "name": "ipython",
    "version": 3
   },
   "file_extension": ".py",
   "mimetype": "text/x-python",
   "name": "python",
   "nbconvert_exporter": "python",
   "pygments_lexer": "ipython3",
   "version": "3.10.13"
  }
 },
 "nbformat": 4,
 "nbformat_minor": 2
}
